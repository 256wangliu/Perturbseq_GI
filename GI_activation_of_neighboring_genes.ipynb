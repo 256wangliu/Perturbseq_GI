{
 "cells": [
  {
   "cell_type": "code",
   "execution_count": 1,
   "metadata": {},
   "outputs": [],
   "source": [
    "import matplotlib.pyplot as plt\n",
    "import numpy as np\n",
    "import pandas as pd\n",
    "import seaborn as sns\n",
    "pd.options.display.float_format = '{:.4f}'.format\n",
    "import matplotlib\n",
    "matplotlib.rcParams['pdf.fonttype'] = 42\n",
    "%load_ext autoreload\n",
    "%autoreload 2\n",
    "%matplotlib inline\n",
    "\n",
    "from perturbseq import *"
   ]
  },
  {
   "cell_type": "markdown",
   "metadata": {},
   "source": [
    "# Load data"
   ]
  },
  {
   "cell_type": "markdown",
   "metadata": {},
   "source": [
    "In this case we have to load the full raw expression data as some neighboring genes will have zero expression and hence are not included in the processed HDF5 data"
   ]
  },
  {
   "cell_type": "code",
   "execution_count": 2,
   "metadata": {},
   "outputs": [
    {
     "name": "stdout",
     "output_type": "stream",
     "text": [
      "Loading digital expression data: /home/tmn/sequencing/gi/gi/outs/filtered_gene_bc_matrices_mex/GRCh38/matrix.mtx...\n",
      "Densifying matrix...\n",
      "Loading guide identities:/home/tmn/sequencing/gi/gi/outs/cell_identities.csv...\n",
      "Generating summary statistics...\n",
      "Done.\n",
      "Generating summary statistics...\n",
      "Done.\n"
     ]
    }
   ],
   "source": [
    "pop = CellPopulation.from_file('/home/tmn/sequencing/gi/gi')\n",
    "pop = pop.subpopulation(cells='single_cell')"
   ]
  },
  {
   "cell_type": "code",
   "execution_count": 3,
   "metadata": {},
   "outputs": [],
   "source": [
    "# add metadata\n",
    "name_replacer = {'C3orf72': 'FOXL2NB',\n",
    "                 'C19orf26': 'CBARP',\n",
    "                 'KIAA1804': 'RP5-862P8.2'\n",
    "                }\n",
    "\n",
    "pop.cells['guide_target'] = pop.cells['guide_identity'].map(lambda x: x.split('__')[0])\n",
    "pop.cells['num_targets'] = pop.cells['guide_target'].map(lambda x: len(x.split('_')))\n",
    "pop.cells['guide_target_1'] = pop.cells['guide_target'].map(lambda x: x.split('_')[0])\n",
    "pop.cells['guide_target_2'] = ''\n",
    "pop.cells.loc[pop.cells['num_targets'] == 2, 'guide_target_2'] = pop.cells.loc[pop.cells['num_targets'] == 2, 'guide_target'].map(lambda x: x.split('_')[1])\n",
    "pop.cells['guide_target_1'] = pop.cells['guide_target_1'].map(lambda x: name_replacer.get(x, x))\n",
    "pop.cells['guide_target_2'] = pop.cells['guide_target_2'].map(lambda x: name_replacer.get(x, x))\n",
    "pop.cells['guide_target'] = pop.cells['guide_target_1'] + '_' + pop.cells['guide_target_2']\n",
    "\n",
    "control_targets = np.setdiff1d(pop.cells.groupby('guide_target').count().sort_values('number_of_cells', ascending=False).head(4).index.values,\n",
    "                               'NegCtrl1_NegCtrl0')\n",
    "pop.cells['perturbed'] = pop.cells['guide_target'].map(lambda x: 'control' if x in control_targets else x)"
   ]
  },
  {
   "cell_type": "code",
   "execution_count": 4,
   "metadata": {},
   "outputs": [
    {
     "name": "stdout",
     "output_type": "stream",
     "text": [
      "Generating summary statistics...\n",
      "Done.\n",
      "Computing average expression matrices...\n"
     ]
    },
    {
     "data": {
      "application/vnd.jupyter.widget-view+json": {
       "model_id": "221a1e4fd59747d8878e8cf938bec975",
       "version_major": 2,
       "version_minor": 0
      },
      "text/html": [
       "<p>Failed to display Jupyter Widget of type <code>HBox</code>.</p>\n",
       "<p>\n",
       "  If you're reading this message in Jupyter Notebook or JupyterLab, it may mean\n",
       "  that the widgets JavaScript is still loading. If this message persists, it\n",
       "  likely means that the widgets JavaScript library is either not installed or\n",
       "  not enabled. See the <a href=\"https://ipywidgets.readthedocs.io/en/stable/user_install.html\">Jupyter\n",
       "  Widgets Documentation</a> for setup instructions.\n",
       "</p>\n",
       "<p>\n",
       "  If you're reading this message in another notebook frontend (for example, a static\n",
       "  rendering on GitHub or <a href=\"https://nbviewer.jupyter.org/\">NBViewer</a>),\n",
       "  it may mean that your frontend doesn't currently support widgets.\n",
       "</p>\n"
      ],
      "text/plain": [
       "HBox(children=(IntProgress(value=1, bar_style=u'info', max=1), HTML(value=u'')))"
      ]
     },
     "metadata": {},
     "output_type": "display_data"
    },
    {
     "name": "stdout",
     "output_type": "stream",
     "text": [
      "\n",
      "Computing clusters...\n"
     ]
    },
    {
     "data": {
      "application/vnd.jupyter.widget-view+json": {
       "model_id": "22b2949f2f0a442d95c49ac9800b5de3",
       "version_major": 2,
       "version_minor": 0
      },
      "text/html": [
       "<p>Failed to display Jupyter Widget of type <code>HBox</code>.</p>\n",
       "<p>\n",
       "  If you're reading this message in Jupyter Notebook or JupyterLab, it may mean\n",
       "  that the widgets JavaScript is still loading. If this message persists, it\n",
       "  likely means that the widgets JavaScript library is either not installed or\n",
       "  not enabled. See the <a href=\"https://ipywidgets.readthedocs.io/en/stable/user_install.html\">Jupyter\n",
       "  Widgets Documentation</a> for setup instructions.\n",
       "</p>\n",
       "<p>\n",
       "  If you're reading this message in another notebook frontend (for example, a static\n",
       "  rendering on GitHub or <a href=\"https://nbviewer.jupyter.org/\">NBViewer</a>),\n",
       "  it may mean that your frontend doesn't currently support widgets.\n",
       "</p>\n"
      ],
      "text/plain": [
       "HBox(children=(IntProgress(value=1, bar_style=u'info', max=1), HTML(value=u'')))"
      ]
     },
     "metadata": {},
     "output_type": "display_data"
    },
    {
     "name": "stdout",
     "output_type": "stream",
     "text": [
      "\n",
      "Generating summary statistics...\n",
      "Done.\n"
     ]
    },
    {
     "name": "stderr",
     "output_type": "stream",
     "text": [
      "perturbseq/cell_population.py:1329: UserWarning: Function application containing missing keys that were replaced by nans.\n",
      "  warnings.warn('Function application containing missing keys that were replaced by nans.')\n",
      "/usr/local/lib/python2.7/dist-packages/ipykernel_launcher.py:27: RuntimeWarning: divide by zero encountered in log10\n",
      "/usr/local/lib/python2.7/dist-packages/ipykernel_launcher.py:33: RuntimeWarning: divide by zero encountered in log10\n",
      "/usr/local/lib/python2.7/dist-packages/ipykernel_launcher.py:34: RuntimeWarning: divide by zero encountered in log10\n"
     ]
    }
   ],
   "source": [
    "# make control population\n",
    "control_targets = np.setdiff1d(pop.cells.groupby('guide_target').count().sort_values('number_of_cells', ascending=False).head(4).index.values,\n",
    "                                'NegCtrl1_NegCtrl0')\n",
    "\n",
    "control_pop = pop.subpopulation(cells='perturbed == \"control\"')\n",
    "\n",
    "# make mean population\n",
    "mean_pop = pop.average('guide_target', show_progress=True)\n",
    "\n",
    "# add metadata\n",
    "mean_pop.cells['first_target'] = mean_pop.cells.index.map(lambda x: x.split('_')[0])\n",
    "mean_pop.cells['second_target'] = mean_pop.cells.index.map(lambda x: x.split('_')[1])\n",
    "mean_pop.cells['guide_target'] = mean_pop.cells.index\n",
    "mean_pop.cells['num_targets'] = 2 - mean_pop.cells.index.str.count('NegCtrl')\n",
    "mean_pop.cells['first_id'] = mean_pop.cells['first_target'].map(lambda x: mean_pop.gene_ids(x))\n",
    "mean_pop.cells['second_id'] = mean_pop.cells['second_target'].map(lambda x: mean_pop.gene_ids(x))\n",
    "\n",
    "mean_pop.add_property(cells=mean_pop.metaapply({'first_expr': lambda meta, expr: expr.loc[meta.name, meta['first_id']],\n",
    "                                                 'second_expr': lambda meta, expr: expr.loc[meta.name, meta['second_id']],\n",
    "                                                }))\n",
    "mean_pop.add_property(cells=metaapply(mean_pop.cells, control_pop.genes,\n",
    "                      {'control_first_expr': lambda meta, expr: expr.loc[meta['first_id'], 'mean'],\n",
    "                       'control_second_expr': lambda meta, expr: expr.loc[meta['second_id'], 'mean'],\n",
    "                      }))\n",
    "mean_pop.cells['fold_first_expr'] = mean_pop.cells['first_expr']/mean_pop.cells['control_first_expr']\n",
    "mean_pop.cells['fold_second_expr'] = mean_pop.cells['second_expr']/mean_pop.cells['control_second_expr']\n",
    "mean_pop.cells['log_fold_first_expr'] = np.log10(mean_pop.cells['fold_first_expr'])\n",
    "mean_pop.cells['log_fold_second_expr'] = np.log10(mean_pop.cells['fold_second_expr'])\n",
    "mean_pop.cells['diff_first_expr'] = mean_pop.cells['first_expr'] - mean_pop.cells['control_first_expr']\n",
    "mean_pop.cells['diff_second_expr'] = mean_pop.cells['second_expr'] - mean_pop.cells['control_second_expr']\n",
    "mean_pop.cells['pct_first_expr'] = mean_pop.cells['diff_first_expr']/mean_pop.cells['control_first_expr']\n",
    "mean_pop.cells['pct_second_expr'] = mean_pop.cells['diff_second_expr']/mean_pop.cells['control_second_expr']\n",
    "mean_pop.cells['log_control_first_expr'] = np.log10(mean_pop.cells['control_first_expr'])\n",
    "mean_pop.cells['log_control_second_expr'] = np.log10(mean_pop.cells['control_second_expr'])"
   ]
  },
  {
   "cell_type": "markdown",
   "metadata": {},
   "source": [
    "# Bootstrap test for altered mean expression"
   ]
  },
  {
   "cell_type": "code",
   "execution_count": 5,
   "metadata": {},
   "outputs": [],
   "source": [
    "from scipy.stats import ttest_ind, ttest_1samp\n",
    "\n",
    "def bootstrap_t(xhat, yhat, alpha=0.01, n=10000):\n",
    "    \n",
    "    base_tvalues = dict()\n",
    "    for gene in xhat.columns:\n",
    "        base_tvalues[gene] = ttest_ind(xhat[gene], yhat[gene], equal_var=False)[0]\n",
    "    base_tvalues = pd.Series(base_tvalues)\n",
    "\n",
    "    group_mean = pd.concat([xhat, yhat]).mean()\n",
    "    xhat = xhat - xhat.mean() + group_mean\n",
    "    yhat = yhat - yhat.mean() + group_mean\n",
    "        \n",
    "    tvalues = dict()\n",
    "\n",
    "    for i in range(0, n):\n",
    "        test_series = dict()\n",
    "        x_sample = xhat.sample(frac=1, replace=True)\n",
    "        y_sample = yhat.sample(frac=1, replace=True)\n",
    "        for gene in x_sample.columns:\n",
    "            test_series[gene] = ttest_ind(x_sample[gene], y_sample[gene], equal_var=False)[0]\n",
    "        tvalues[i] = pd.Series(test_series)\n",
    "        \n",
    "    tvalues = pd.DataFrame(tvalues)\n",
    "    pvalues = dict()\n",
    "\n",
    "    for gene in tvalues.index:\n",
    "        if np.isnan(base_tvalues.loc[gene]):\n",
    "            pvalues[gene] = 1\n",
    "        else:\n",
    "            pvalues[gene] = np.sum(tvalues.loc[gene].abs() > np.abs(base_tvalues.loc[gene]))/(float(n) + 1)\n",
    "    pvalues = pd.Series(pvalues) \n",
    "        \n",
    "    return pvalues < alpha, pvalues"
   ]
  },
  {
   "cell_type": "code",
   "execution_count": 6,
   "metadata": {},
   "outputs": [],
   "source": [
    "def bootstrap_ratio(x, y, alpha=0.05, n=10000, eps=1e-7):\n",
    "    support, p = bootstrap_t(x, y, alpha=alpha, n=n)\n",
    "    ratio = x.mean()/(y.mean() + eps)\n",
    "    ratio[support[~support].index] = 1\n",
    "    ratio[ratio == 0] = 1\n",
    "    return ratio.loc[x.columns], p.loc[x.columns]"
   ]
  },
  {
   "cell_type": "code",
   "execution_count": 7,
   "metadata": {},
   "outputs": [],
   "source": [
    "def get_sub_matrices(pop, control_pop, target, genes, scale=False):\n",
    "    subpop_matrix = pop.matrix.loc[pop.cells.query('guide_target == @target').index, genes]\n",
    "    control_matrix = control_pop.matrix[genes]\n",
    "    \n",
    "    if scale:\n",
    "        subpop_median = pop.cells.query('guide_target == @target')['UMI_count'].median()\n",
    "        control_median = control_pop.cells['UMI_count'].median()\n",
    "        scale_factor = control_median/subpop_median\n",
    "        subpop_matrix = subpop_matrix*scale_factor\n",
    "\n",
    "    return subpop_matrix, control_matrix"
   ]
  },
  {
   "cell_type": "code",
   "execution_count": 8,
   "metadata": {},
   "outputs": [],
   "source": [
    "# def mean_cis(xhat, yhat, n=1000):\n",
    "#     x_cis = dict()\n",
    "#     y_cis = dict()\n",
    "\n",
    "#     for gene in xhat.columns:\n",
    "#         if not (xhat[gene] == 0).all():\n",
    "#             x_cis[gene] = bootstrap.ci(data=xhat[gene].values, n_samples=n)\n",
    "#         else:\n",
    "#             x_cis[gene] = np.array([0, 0])\n",
    "\n",
    "#         if not (control_pop.matrix[gene] == 0).all():\n",
    "#             y_cis[gene] = bootstrap.ci(data=yhat[gene].values, n_samples=n)\n",
    "#         else:\n",
    "#             y_cis[gene] = np.array([0, 0])\n",
    "            \n",
    "#     x_cis = pd.DataFrame(x_cis).T.rename(columns={0: 'x_low', 1: 'x_high'})\n",
    "#     y_cis = pd.DataFrame(y_cis).T.rename(columns={0: 'y_low', 1: 'y_high'})\n",
    "#     result = pd.merge(x_cis, y_cis, left_index=True, right_index=True)\n",
    "#     result['x_mean'] = xhat.mean()\n",
    "#     result['y_mean'] = yhat.mean()\n",
    "    \n",
    "#     return result.loc[xhat.columns]"
   ]
  },
  {
   "cell_type": "code",
   "execution_count": 9,
   "metadata": {},
   "outputs": [],
   "source": [
    "# def bootstrap_t1samp(xhat, mean, alpha=0.01, n=1000):\n",
    "    \n",
    "#     base_tvalues = dict()\n",
    "#     for gene in xhat.columns:\n",
    "#         base_tvalues[gene] = ttest_1samp(xhat[gene], mean)[0]\n",
    "#     base_tvalues = pd.Series(base_tvalues)\n",
    "        \n",
    "#     xhat = xhat - xhat.mean()\n",
    "        \n",
    "#     tvalues = dict()\n",
    "\n",
    "#     for i in range(0, n):\n",
    "#         test_series = dict()\n",
    "#         x_sample = xhat.sample(frac=1, replace=True)\n",
    "#         for gene in x_sample.columns:\n",
    "#             test_series[gene] = ttest_1samp(x_sample[gene], mean)[0]\n",
    "#         tvalues[i] = pd.Series(test_series)\n",
    "        \n",
    "#     tvalues = pd.DataFrame(tvalues)\n",
    "#     pvalues = dict()\n",
    "\n",
    "#     for gene in tvalues.index:\n",
    "#         if np.isnan(base_tvalues.loc[gene]):\n",
    "#             pvalues[gene] = 1\n",
    "#         else:\n",
    "#             pvalues[gene] = np.sum(tvalues.loc[gene].abs() > np.abs(base_tvalues.loc[gene]))/(float(n) + 1)\n",
    "#     pvalues = pd.Series(pvalues) \n",
    "        \n",
    "#     return pvalues < alpha, pvalues"
   ]
  },
  {
   "cell_type": "markdown",
   "metadata": {},
   "source": [
    "# Get neighboring genes for each targeted gene"
   ]
  },
  {
   "cell_type": "markdown",
   "metadata": {},
   "source": [
    "Made a GTF file containing only genes from the cellranger references by running\n",
    "\n",
    "awk '$3 == \"gene\"' genes.gtf > cellranger-GRCh38-1.2.0_only_genes.gtf"
   ]
  },
  {
   "cell_type": "code",
   "execution_count": 10,
   "metadata": {},
   "outputs": [],
   "source": [
    "gene_list = pd.read_csv('./data_sharing/cellranger-GRCh38-1.2.0_only_genes.gtf',\n",
    "            sep='\\t',\n",
    "            header=None,\n",
    "            names=['chr', 'source', 'type', 'start', 'end', 'null1', 'orientation', 'null2', 'notes'])\n",
    "\n",
    "gene_list = gene_list[['chr', 'source', 'type', 'start', 'end', 'orientation', 'notes']]\n",
    "gene_list['gene_id'] = gene_list['notes'].map(lambda x: x.split('\"')[1])\n",
    "gene_list['gene_name'] = gene_list['notes'].map(lambda x: x.split('\"')[5])\n",
    "gene_list['gene_type'] = gene_list['notes'].map(lambda x: x.split('\"')[9])\n",
    "\n",
    "protein_gene_list = gene_list[gene_list['gene_type'] == \"protein_coding\"]\n",
    "protein_gene_list.reset_index(inplace=True)"
   ]
  },
  {
   "cell_type": "markdown",
   "metadata": {},
   "source": [
    "Get list of genes neighboring each targeted gene for all single perturbations"
   ]
  },
  {
   "cell_type": "code",
   "execution_count": 11,
   "metadata": {},
   "outputs": [],
   "source": [
    "n = 20 # number of neighbors to look at\n",
    "neighborhood_expr = dict()\n",
    "control_neighborhood_expr = dict()\n",
    "neighboring_genes = dict()\n",
    "\n",
    "single_genes = np.setdiff1d(mean_pop.cells.query('num_targets == 1')['guide_target'].unique(), control_targets)\n",
    "single_genes_and_targets = {gene: gene.replace('_NegCtrl0', '').replace('NegCtrl0_', '') for gene in single_genes}\n",
    "\n",
    "for perturbation, gene in single_genes_and_targets.iteritems():\n",
    "    idx = gene_list[gene_list['gene_name'] == gene].index[0]\n",
    "    neighboring_genes[perturbation] = gene_list.iloc[np.arange(idx - n, idx + n + 1)]['gene_id']\n",
    "    neighborhood = mean_pop.matrix.loc[perturbation][neighboring_genes[perturbation]]\n",
    "    neighborhood.index = pd.Index(np.arange(0 - n, 0 + n + 1))\n",
    "    neighborhood_expr[perturbation] = neighborhood\n",
    "    control_neighborhood = control_pop.genes.loc[neighboring_genes[perturbation]]['mean']\n",
    "    control_neighborhood.index = pd.Index(np.arange(0 - n, 0 + n + 1))\n",
    "    control_neighborhood_expr[perturbation] = control_neighborhood\n",
    "\n",
    "neighborhood_expr = pd.DataFrame(neighborhood_expr)\n",
    "control_neighborhood_expr = pd.DataFrame(control_neighborhood_expr)"
   ]
  },
  {
   "cell_type": "markdown",
   "metadata": {},
   "source": [
    "Get single cell expression matrices for each perturbation of all genes surrounding the target of the sgRNA"
   ]
  },
  {
   "cell_type": "code",
   "execution_count": 12,
   "metadata": {},
   "outputs": [
    {
     "data": {
      "application/vnd.jupyter.widget-view+json": {
       "model_id": "c807e24ab2d24af39db4cf00b399f5a1",
       "version_major": 2,
       "version_minor": 0
      },
      "text/html": [
       "<p>Failed to display Jupyter Widget of type <code>HBox</code>.</p>\n",
       "<p>\n",
       "  If you're reading this message in Jupyter Notebook or JupyterLab, it may mean\n",
       "  that the widgets JavaScript is still loading. If this message persists, it\n",
       "  likely means that the widgets JavaScript library is either not installed or\n",
       "  not enabled. See the <a href=\"https://ipywidgets.readthedocs.io/en/stable/user_install.html\">Jupyter\n",
       "  Widgets Documentation</a> for setup instructions.\n",
       "</p>\n",
       "<p>\n",
       "  If you're reading this message in another notebook frontend (for example, a static\n",
       "  rendering on GitHub or <a href=\"https://nbviewer.jupyter.org/\">NBViewer</a>),\n",
       "  it may mean that your frontend doesn't currently support widgets.\n",
       "</p>\n"
      ],
      "text/plain": [
       "HBox(children=(IntProgress(value=1, bar_style=u'info', max=1), HTML(value=u'')))"
      ]
     },
     "metadata": {},
     "output_type": "display_data"
    },
    {
     "name": "stdout",
     "output_type": "stream",
     "text": [
      "\n"
     ]
    }
   ],
   "source": [
    "from tqdm import tqdm_notebook\n",
    "\n",
    "control_Ms = dict()\n",
    "perturbed_Ms = dict()\n",
    "\n",
    "for perturbation, gene in tqdm_notebook(single_genes_and_targets.iteritems()):\n",
    "    M, M_cont = get_sub_matrices(pop, control_pop, perturbation, neighboring_genes[perturbation].values, scale=True)\n",
    "    if M.shape[0] == 0 or M_cont.shape[0] == 0:\n",
    "        continue\n",
    "    control_Ms[perturbation] = M_cont\n",
    "    perturbed_Ms[perturbation] = M"
   ]
  },
  {
   "cell_type": "code",
   "execution_count": 13,
   "metadata": {},
   "outputs": [
    {
     "name": "stderr",
     "output_type": "stream",
     "text": [
      "[Parallel(n_jobs=10)]: Done   5 tasks      | elapsed:  3.0min\n",
      "[Parallel(n_jobs=10)]: Done  12 tasks      | elapsed:  5.8min\n",
      "[Parallel(n_jobs=10)]: Done  21 tasks      | elapsed:  8.7min\n",
      "[Parallel(n_jobs=10)]: Done  30 tasks      | elapsed:  9.6min\n",
      "[Parallel(n_jobs=10)]: Done  41 tasks      | elapsed: 14.7min\n",
      "[Parallel(n_jobs=10)]: Done  52 tasks      | elapsed: 17.7min\n",
      "[Parallel(n_jobs=10)]: Done  65 tasks      | elapsed: 20.7min\n",
      "[Parallel(n_jobs=10)]: Done  78 tasks      | elapsed: 23.9min\n",
      "[Parallel(n_jobs=10)]: Done  93 tasks      | elapsed: 29.4min\n",
      "[Parallel(n_jobs=10)]: Done 108 tasks      | elapsed: 32.9min\n",
      "[Parallel(n_jobs=10)]: Done 125 tasks      | elapsed: 38.5min\n",
      "[Parallel(n_jobs=10)]: Done 149 out of 152 | elapsed: 44.6min remaining:   53.9s\n",
      "[Parallel(n_jobs=10)]: Done 152 out of 152 | elapsed: 46.8min finished\n"
     ]
    }
   ],
   "source": [
    "# this is very slow...\n",
    "from joblib import Parallel, delayed\n",
    "\n",
    "out = Parallel(n_jobs=10, verbose=10)(delayed(bootstrap_ratio)(perturbed_Ms[perturbation],\n",
    "                                                               control_Ms[perturbation]) for perturbation in perturbed_Ms.keys())"
   ]
  },
  {
   "cell_type": "code",
   "execution_count": 14,
   "metadata": {},
   "outputs": [],
   "source": [
    "ratios = {gene: zip(*out)[0][i] for i, gene in enumerate(perturbed_Ms.keys())}\n",
    "pvalues = {gene: zip(*out)[1][i] for i, gene in enumerate(perturbed_Ms.keys())}"
   ]
  },
  {
   "cell_type": "markdown",
   "metadata": {},
   "source": [
    "# Beautifying results"
   ]
  },
  {
   "cell_type": "markdown",
   "metadata": {},
   "source": [
    "This is just some data munging for visual presentation. We set the 0 point for each neighborhood of genes to be the center of the targeted ORF. We also flip all the neighbors for genes that fall on the negative strand so that in the visualization the direction of transcription is the same for all columns."
   ]
  },
  {
   "cell_type": "code",
   "execution_count": 17,
   "metadata": {},
   "outputs": [
    {
     "name": "stderr",
     "output_type": "stream",
     "text": [
      "/usr/local/lib/python2.7/dist-packages/ipykernel_launcher.py:1: SettingWithCopyWarning: \n",
      "A value is trying to be set on a copy of a slice from a DataFrame.\n",
      "Try using .loc[row_indexer,col_indexer] = value instead\n",
      "\n",
      "See the caveats in the documentation: http://pandas.pydata.org/pandas-docs/stable/indexing.html#indexing-view-versus-copy\n",
      "  \"\"\"Entry point for launching an IPython kernel.\n"
     ]
    },
    {
     "name": "stdout",
     "output_type": "stream",
     "text": [
      "AHR_NegCtrl0\n",
      "ARID1A_NegCtrl0\n",
      "ARRDC3_NegCtrl0... flipping\n",
      "ATL1_NegCtrl0\n",
      "BAK1_NegCtrl0... flipping\n",
      "BCL2L11_NegCtrl0\n",
      "BCORL1_NegCtrl0\n",
      "BPGM_NegCtrl0\n",
      "CBARP_NegCtrl0... flipping\n",
      "CBFA2T3_NegCtrl0... flipping\n",
      "CBL_NegCtrl0\n",
      "CDKN1A_NegCtrl0\n",
      "CDKN1B_NegCtrl0\n",
      "CDKN1C_NegCtrl0... flipping\n",
      "CEBPA_NegCtrl0... flipping\n",
      "CEBPB_NegCtrl0\n",
      "CEBPE_NegCtrl0... flipping\n",
      "CELF2_NegCtrl0\n",
      "CITED1_NegCtrl0... flipping\n",
      "CKS1B_NegCtrl0\n",
      "CLDN6_NegCtrl0... flipping\n",
      "CNN1_NegCtrl0\n",
      "CNNM4_NegCtrl0\n",
      "COL1A1_NegCtrl0... flipping\n",
      "COL2A1_NegCtrl0... flipping\n",
      "CSRNP1_NegCtrl0... flipping\n",
      "DLX2_NegCtrl0... flipping\n",
      "DUSP9_NegCtrl0\n",
      "EGR1_NegCtrl0\n",
      "ELMSAN1_NegCtrl0... flipping\n",
      "ETS2_NegCtrl0\n",
      "FEV_NegCtrl0... flipping\n",
      "FOSB_NegCtrl0\n",
      "FOXA1_NegCtrl0... flipping\n",
      "FOXA3_NegCtrl0\n",
      "FOXF1_NegCtrl0\n",
      "FOXL2NB_NegCtrl0\n",
      "FOXL2_NegCtrl0... flipping\n",
      "FOXO4_NegCtrl0\n",
      "GLB1L2_NegCtrl0\n",
      "HES7_NegCtrl0... flipping\n",
      "HK2_NegCtrl0\n",
      "HNF4A_NegCtrl0\n",
      "HOXA13_NegCtrl0... flipping\n",
      "HOXB9_NegCtrl0... flipping\n",
      "HOXC13_NegCtrl0\n",
      "IER5L_NegCtrl0... flipping\n",
      "IGDCC3_NegCtrl0... flipping\n",
      "IKZF3_NegCtrl0... flipping\n",
      "IRF1_NegCtrl0... flipping\n",
      "ISL2_NegCtrl0\n",
      "JUN_NegCtrl0... flipping\n",
      "KIF18B_NegCtrl0... flipping\n",
      "KIF2C_NegCtrl0\n",
      "KLF1_NegCtrl0... flipping\n",
      "KMT2A_NegCtrl0\n",
      "LHX1_NegCtrl0\n",
      "LYL1_NegCtrl0... flipping\n",
      "MAML2_NegCtrl0... flipping\n",
      "MAP2K3_NegCtrl0\n",
      "MAP2K6_NegCtrl0\n",
      "MAP4K3_NegCtrl0... flipping\n",
      "MAP4K5_NegCtrl0... flipping\n",
      "MAP7D1_NegCtrl0\n",
      "MAPK1_NegCtrl0... flipping\n",
      "MEIS1_NegCtrl0\n",
      "MIDN_NegCtrl0\n",
      "NCL_NegCtrl0... flipping\n",
      "NIT1_NegCtrl0\n",
      "NegCtrl0_BAK1... flipping\n",
      "NegCtrl0_CBARP... flipping\n",
      "NegCtrl0_CBFA2T3... flipping\n",
      "NegCtrl0_CDKN1A\n",
      "NegCtrl0_CDKN1B\n",
      "NegCtrl0_CEBPA... flipping\n",
      "NegCtrl0_CEBPB\n",
      "NegCtrl0_CEBPE... flipping\n",
      "NegCtrl0_CLDN6... flipping\n",
      "NegCtrl0_CNN1\n",
      "NegCtrl0_COL2A1... flipping\n",
      "NegCtrl0_DLX2... flipping\n",
      "NegCtrl0_ELMSAN1... flipping\n",
      "NegCtrl0_ETS2\n",
      "NegCtrl0_FEV... flipping\n",
      "NegCtrl0_FOXA1... flipping\n",
      "NegCtrl0_FOXF1\n",
      "NegCtrl0_FOXL2... flipping\n",
      "NegCtrl0_HOXB9... flipping\n",
      "NegCtrl0_HOXC13\n",
      "NegCtrl0_IER5L... flipping\n",
      "NegCtrl0_IGDCC3... flipping\n",
      "NegCtrl0_IKZF3... flipping\n",
      "NegCtrl0_ISL2\n",
      "NegCtrl0_KIF2C\n",
      "NegCtrl0_KLF1... flipping\n",
      "NegCtrl0_MAP2K6\n",
      "NegCtrl0_MAP7D1\n",
      "NegCtrl0_MAPK1... flipping\n",
      "NegCtrl0_MEIS1\n",
      "NegCtrl0_OSR2\n",
      "NegCtrl0_PRTG... flipping\n",
      "NegCtrl0_PTPN12\n",
      "NegCtrl0_PTPN9... flipping\n",
      "NegCtrl0_RUNX1T1... flipping\n",
      "NegCtrl0_SAMD1... flipping\n",
      "NegCtrl0_SET\n",
      "NegCtrl0_SLC38A2... flipping\n",
      "NegCtrl0_SNAI1\n",
      "NegCtrl0_SPI1... flipping\n",
      "NegCtrl0_STIL... flipping\n",
      "NegCtrl0_TBX2\n",
      "NegCtrl0_TBX3... flipping\n",
      "NegCtrl0_TGFBR2\n",
      "NegCtrl0_UBASH3A\n",
      "NegCtrl0_UBASH3B\n",
      "NegCtrl0_ZBTB1\n",
      "NegCtrl0_ZBTB25... flipping\n",
      "OSR2_NegCtrl0\n",
      "PLK4_NegCtrl0\n",
      "POU3F2_NegCtrl0\n",
      "PRDM1_NegCtrl0\n",
      "PRTG_NegCtrl0... flipping\n",
      "PTPN12_NegCtrl0\n",
      "PTPN13_NegCtrl0\n",
      "PTPN1_NegCtrl0\n",
      "PTPN9_NegCtrl0... flipping\n",
      "RHOXF2_NegCtrl0\n",
      "RP5-862P8.2_NegCtrl0\n",
      "RREB1_NegCtrl0\n",
      "RUNX1T1_NegCtrl0... flipping\n",
      "S1PR2_NegCtrl0... flipping\n",
      "SAMD1_NegCtrl0... flipping\n",
      "SET_NegCtrl0\n",
      "SGK1_NegCtrl0... flipping\n",
      "SLC4A1_NegCtrl0... flipping\n",
      "SLC6A9_NegCtrl0... flipping\n",
      "SNAI1_NegCtrl0\n",
      "SPI1_NegCtrl0... flipping\n",
      "STIL_NegCtrl0... flipping\n",
      "TBX2_NegCtrl0\n",
      "TBX3_NegCtrl0... flipping\n",
      "TGFBR2_NegCtrl0\n",
      "TMSB4X_NegCtrl0\n",
      "TP73_NegCtrl0\n",
      "TSC22D1_NegCtrl0... flipping\n",
      "UBASH3A_NegCtrl0\n",
      "UBASH3B_NegCtrl0\n",
      "ZBTB10_NegCtrl0\n",
      "ZBTB1_NegCtrl0\n",
      "ZBTB25_NegCtrl0... flipping\n",
      "ZC3HAV1_NegCtrl0... flipping\n",
      "ZNF318_NegCtrl0... flipping\n"
     ]
    }
   ],
   "source": [
    "protein_gene_list['midpoint'] = (protein_gene_list['start'] + protein_gene_list['end'])/2\n",
    "gene_list['midpoint'] = (gene_list['start'] + gene_list['end'])/2\n",
    "\n",
    "df = gene_list.set_index('gene_id')\n",
    "centered_ratios = dict()\n",
    "\n",
    "for gene in single_genes:\n",
    "    r = ratios[gene]\n",
    "    d = df.loc[r.index].copy()\n",
    "\n",
    "    if d.iloc[n]['orientation'] == '+':\n",
    "        offset = d.iloc[n]['start']\n",
    "        d['midpoint'] = d['midpoint'] - offset\n",
    "        d['start'] = d['start'] - offset\n",
    "        d['end'] = d['end'] - offset\n",
    "        print gene\n",
    "    else: #swap genes where ORFs are on negative strand\n",
    "        offset = d.iloc[n]['end']\n",
    "        d['midpoint'] = d['midpoint'] - offset\n",
    "        temp = d['start'].copy()\n",
    "        d['start'] = -(d['end'] - offset)\n",
    "        d['end'] = -(temp - offset)\n",
    "        print gene + \"... flipping\"\n",
    "    \n",
    "    d['ratio'] = r\n",
    "    centered_ratios[gene] = d[['ratio', 'midpoint', 'start', 'end']]"
   ]
  },
  {
   "cell_type": "markdown",
   "metadata": {},
   "source": [
    "More beautifying, and morphing the data into the format that Bokeh expects for plotting. Add real gene names and flag genes that have very large effects on gene expression (affecting total UMI count), which may be expected to have more differentially expressed genes on average."
   ]
  },
  {
   "cell_type": "code",
   "execution_count": 18,
   "metadata": {},
   "outputs": [],
   "source": [
    "annotated_centered_ratios = dict()\n",
    "\n",
    "for gene, frame in centered_ratios.iteritems():\n",
    "    frame = frame.copy()\n",
    "    frame['target'] = gene\n",
    "    frame['gene_name'] = pop.genes.loc[frame.index, 'gene_name']\n",
    "    annotated_centered_ratios[gene] = frame\n",
    "    \n",
    "df = pd.concat(annotated_centered_ratios.values()).reset_index()\n",
    "df['ratio'] = np.log2(df['ratio'])\n",
    "df['target_gene'] = df['target'].map(lambda x: x.replace('NegCtrl0_', '').replace('_NegCtrl0', ''))\n",
    "df['index'] = df.index\n",
    "\n",
    "# flag perturbations that induce large changes in UMI content relative to control cells\n",
    "single_guide_pop = mean_pop.cells.loc[single_genes]\n",
    "low_targets = single_guide_pop[single_guide_pop['UMI_count'] < 0.8*mean_pop.cells.loc['NegCtrl11_NegCtrl0', 'UMI_count']].index.values\n",
    "low_mapper = {name: name + ' #' if name in low_targets else name for name in df['target'].unique()}\n",
    "df['target'] = df['target'].map(low_mapper)\n",
    "\n",
    "sort_order = df.sort_values(['target_gene', 'target', 'index']).groupby('target').head(1)['target'].reset_index(drop=True)\n",
    "order_mapper = {name: '{0:03d} {1}'.format(n, name) for n, name in sort_order.iteritems()}\n",
    "df['target'] = df['target'].map(lambda x: order_mapper[x])"
   ]
  },
  {
   "cell_type": "markdown",
   "metadata": {},
   "source": [
    "Now render the figure using Bokeh"
   ]
  },
  {
   "cell_type": "code",
   "execution_count": 19,
   "metadata": {},
   "outputs": [],
   "source": [
    "from bokeh.io import show, reset_output\n",
    "from bokeh.models import (\n",
    "    ColumnDataSource,\n",
    "    HoverTool,\n",
    "    LinearColorMapper,\n",
    "    BasicTicker,\n",
    "    PrintfTickFormatter,\n",
    "    ColorBar,\n",
    "    Range1d,\n",
    "    Paragraph\n",
    ")\n",
    "from bokeh.plotting import figure\n",
    "import bokeh.palettes\n",
    "from math import pi\n",
    "from bokeh.io import output_notebook, output_file, reset_output\n",
    "from bokeh.layouts import column\n",
    "from matplotlib.colors import to_hex"
   ]
  },
  {
   "cell_type": "code",
   "execution_count": 20,
   "metadata": {},
   "outputs": [
    {
     "name": "stderr",
     "output_type": "stream",
     "text": [
      "/usr/local/lib/python2.7/dist-packages/pandas/core/generic.py:3643: SettingWithCopyWarning: \n",
      "A value is trying to be set on a copy of a slice from a DataFrame.\n",
      "Try using .loc[row_indexer,col_indexer] = value instead\n",
      "\n",
      "See the caveats in the documentation: http://pandas.pydata.org/pandas-docs/stable/indexing.html#indexing-view-versus-copy\n",
      "  self[name] = value\n"
     ]
    }
   ],
   "source": [
    "first_pos_df = df[df['target'].str.contains('_NegCtrl0')]\n",
    "first_pos_df.target = first_pos_df.target.map(lambda x: ' '.join(x.split(' ')[1:]))"
   ]
  },
  {
   "cell_type": "code",
   "execution_count": 21,
   "metadata": {},
   "outputs": [],
   "source": [
    "reset_output()"
   ]
  },
  {
   "cell_type": "code",
   "execution_count": 22,
   "metadata": {},
   "outputs": [],
   "source": [
    "source = ColumnDataSource(first_pos_df)\n",
    "TOOLS = \"hover,save,pan,box_zoom,reset,wheel_zoom\"\n",
    "\n",
    "colors = [to_hex(plt.cm.get_cmap('RdBu_r')(x)) for x in np.linspace(0, 1, 19)]\n",
    "colors = colors[:9] + ['#d6d6d6',] + colors[10:]\n",
    "mapper = LinearColorMapper(palette=colors, low=-5, high=5)\n",
    "\n",
    "p = figure(title='CRISPRa activation of targets and nearby genes',\n",
    "        x_range=sorted(first_pos_df['target'].unique()), y_range=Range1d(-5e5, 5e5),\n",
    "           y_axis_label='Distance from midpoint of targeted gene (bp)',\n",
    "           x_axis_label='Targeted gene',\n",
    "           x_axis_location=\"below\", plot_width=2400, plot_height=1000,\n",
    "           tools=TOOLS, toolbar_location='above',\n",
    "          lod_threshold=1000000)\n",
    "\n",
    "p.vbar(x=\"target\", bottom=\"start\", top=\"end\",\n",
    "       width=0.8,\n",
    "       source=source,\n",
    "       fill_color={'field': 'ratio', 'transform': mapper},\n",
    "       line_color=None)\n",
    "\n",
    "p.grid.grid_line_color = None\n",
    "p.axis.axis_line_color = None\n",
    "p.axis.major_tick_line_color = None\n",
    "p.axis.major_label_text_font_size = \"16pt\"\n",
    "p.axis.major_label_standoff = 0\n",
    "p.yaxis.axis_label_text_font_style = \"normal\"\n",
    "p.xaxis.axis_label_text_font_style = \"normal\"\n",
    "p.xaxis.axis_label_text_font_size = \"22pt\"\n",
    "p.yaxis.axis_label_text_font_size = \"22pt\"\n",
    "\n",
    "p.xaxis.major_label_orientation = pi / 2\n",
    "p.toolbar.logo = None\n",
    "p.min_border_top = 80\n",
    "\n",
    "color_bar = ColorBar(color_mapper=mapper, major_label_text_font_size=\"12pt\",\n",
    "                     ticker=BasicTicker(desired_num_ticks=len(colors)),\n",
    "                     formatter=PrintfTickFormatter(format=\"%.1f\"),\n",
    "                     border_line_color=None, location=(0, 0))\n",
    "p.add_layout(color_bar, 'right')\n",
    "\n",
    "p.select_one(HoverTool).tooltips = [\n",
    "     ('Gene', '@gene_name'),\n",
    "     ('Target', '@target'),\n",
    "     ('Log2 fold', '@ratio')\n",
    "]"
   ]
  },
  {
   "cell_type": "code",
   "execution_count": 23,
   "metadata": {},
   "outputs": [],
   "source": [
    "output_file('./figures/neighboring_genes.html')"
   ]
  },
  {
   "cell_type": "code",
   "execution_count": 24,
   "metadata": {},
   "outputs": [],
   "source": [
    "show(p)"
   ]
  },
  {
   "cell_type": "code",
   "execution_count": 58,
   "metadata": {},
   "outputs": [],
   "source": []
  },
  {
   "cell_type": "markdown",
   "metadata": {},
   "source": [
    "Finally, plot a figure showing the activation for all neighboring genes."
   ]
  },
  {
   "cell_type": "code",
   "execution_count": 28,
   "metadata": {},
   "outputs": [],
   "source": [
    "target_index = first_pos_df.query('start == 0').index\n",
    "target_features = first_pos_df.loc[target_index]\n",
    "neighbor_features_1 = first_pos_df.loc[target_index - 1].query('ratio != 0')\n",
    "neighbor_features_2 = first_pos_df.loc[target_index + 1].query('ratio != 0')"
   ]
  },
  {
   "cell_type": "code",
   "execution_count": 29,
   "metadata": {},
   "outputs": [],
   "source": [
    "neighbor_features_1.query('ratio > 1 or ratio < -1').to_csv('./data_sharing/activated_neighbors_1.csv')"
   ]
  },
  {
   "cell_type": "code",
   "execution_count": 30,
   "metadata": {},
   "outputs": [],
   "source": [
    "neighbor_features_2.query('ratio > 1 or ratio < -1').to_csv('./data_sharing/activated_neighbors_2.csv')"
   ]
  },
  {
   "cell_type": "code",
   "execution_count": 31,
   "metadata": {},
   "outputs": [
    {
     "data": {
      "image/png": "[encoded data removed]",
      "text/plain": [
       "<Figure size 432x288 with 1 Axes>"
      ]
     },
     "metadata": {},
     "output_type": "display_data"
    }
   ],
   "source": [
    "plt.scatter(df['start']/1000, df['ratio'], s=10)\n",
    "plt.scatter(target_features['start']/1000, target_features['ratio'], s=10, color='gray', label='target')\n",
    "plt.scatter(neighbor_features_1['start']/1000, neighbor_features_1['ratio'], s=10, color='orange', label='neighbor')\n",
    "plt.scatter(neighbor_features_2['start']/1000, neighbor_features_2['ratio'], s=10, color='orange', label='neighbor')\n",
    "\n",
    "plt.xlabel('Position from targeted ORF (kb)')\n",
    "plt.ylabel('log 2 fold activation')\n",
    "plt.legend()\n",
    "plt.xlim([-1e2, 1e2]);\n",
    "plt.savefig('./figures/activation_of_neighboring_genes.pdf', bbox_inches='tight')"
   ]
  }
 ],
 "metadata": {
  "kernelspec": {
   "display_name": "Python 2",
   "language": "python",
   "name": "python2"
  },
  "language_info": {
   "codemirror_mode": {
    "name": "ipython",
    "version": 2
   },
   "file_extension": ".py",
   "mimetype": "text/x-python",
   "name": "python",
   "nbconvert_exporter": "python",
   "pygments_lexer": "ipython2",
   "version": "2.7.12"
  }
 },
 "nbformat": 4,
 "nbformat_minor": 2
}
