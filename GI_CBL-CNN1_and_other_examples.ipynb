{
 "cells": [
  {
   "cell_type": "code",
   "execution_count": 1,
   "metadata": {},
   "outputs": [],
   "source": [
    "import matplotlib.pyplot as plt\n",
    "import numpy as np\n",
    "import pandas as pd\n",
    "import seaborn as sns\n",
    "pd.options.display.float_format = '{:.4f}'.format\n",
    "import matplotlib\n",
    "matplotlib.rcParams['pdf.fonttype'] = 42\n",
    "%load_ext autoreload\n",
    "%autoreload 2\n",
    "%matplotlib inline\n",
    "\n",
    "from perturbseq import *"
   ]
  },
  {
   "cell_type": "markdown",
   "metadata": {},
   "source": [
    "# Load pre-processed Perturbseq experiment from hdf5"
   ]
  },
  {
   "cell_type": "markdown",
   "metadata": {},
   "source": [
    "Populations are constructed in notebook *GI generate populations*"
   ]
  },
  {
   "cell_type": "code",
   "execution_count": 2,
   "metadata": {},
   "outputs": [
    {
     "name": "stdout",
     "output_type": "stream",
     "text": [
      "Loading matrix...\n",
      "Loading normalized matrix...\n",
      "Loading metadata...\n",
      "Done in 32.4601180553s.\n",
      "Done.\n"
     ]
    }
   ],
   "source": [
    "pop = CellPopulation.from_hdf('/home/tmn/sequencing/gi/gi/outs/final_single_cell_pop_with_normalized.hdf')"
   ]
  },
  {
   "cell_type": "code",
   "execution_count": 3,
   "metadata": {},
   "outputs": [
    {
     "name": "stdout",
     "output_type": "stream",
     "text": [
      "Matrix\n",
      "==========================\n",
      "<class 'pandas.core.frame.DataFrame'>\n",
      "Index: 93658 entries, AAACCTGAGGCATGTG-1 to TTTGTCATCTGGCGAC-8\n",
      "Columns: 24665 entries, ENSG00000243485 to ENSG00000271254\n",
      "dtypes: int32(24665)\n",
      "memory usage: 8.6 GB\n",
      "\n",
      "Normalized matrix\n",
      "==========================\n",
      "<class 'pandas.core.frame.DataFrame'>\n",
      "Index: 93658 entries, AAACCTGAGGCATGTG-1 to TTTGTCATCTGGCGAC-8\n",
      "Columns: 24665 entries, ENSG00000243485 to ENSG00000271254\n",
      "dtypes: float64(24665)\n",
      "memory usage: 17.2 GB\n"
     ]
    }
   ],
   "source": [
    "pop.info()"
   ]
  },
  {
   "cell_type": "code",
   "execution_count": 4,
   "metadata": {},
   "outputs": [
    {
     "name": "stdout",
     "output_type": "stream",
     "text": [
      "Loading matrix...\n",
      "Loading normalized matrix...\n",
      "Loading metadata...\n",
      "Done in 2.60543704033s.\n",
      "Done.\n"
     ]
    }
   ],
   "source": [
    "control_pop = CellPopulation.from_hdf('/home/tmn/sequencing/gi/gi/outs/control_pop.hdf')"
   ]
  },
  {
   "cell_type": "code",
   "execution_count": 5,
   "metadata": {},
   "outputs": [
    {
     "name": "stdout",
     "output_type": "stream",
     "text": [
      "Loading matrix...\n",
      "Loading normalized matrix...\n",
      "Loading metadata...\n",
      "Done in 0.193248987198s.\n",
      "Done.\n"
     ]
    }
   ],
   "source": [
    "mean_pop = CellPopulation.from_hdf('/home/tmn/sequencing/gi/gi/outs/mean_pop_with_normalized.hdf')"
   ]
  },
  {
   "cell_type": "markdown",
   "metadata": {},
   "source": [
    "# Load emap information"
   ]
  },
  {
   "cell_type": "code",
   "execution_count": 6,
   "metadata": {},
   "outputs": [],
   "source": [
    "# these have different names in the emap and in GChr38\n",
    "name_replacer = {'C3orf72': 'FOXL2NB',\n",
    "                 'C19orf26': 'CBARP',\n",
    "                 'KIAA1804': 'RP5-862P8.2',\n",
    "                 'RHOXF2': 'RHOXF2B',\n",
    "                }\n",
    "\n",
    "inverse_name_replacer = {v: k for k, v in name_replacer.iteritems()}"
   ]
  },
  {
   "cell_type": "code",
   "execution_count": 7,
   "metadata": {},
   "outputs": [],
   "source": [
    "emap = pd.read_csv('./final_emaps/processed_emap.csv', index_col=[0])\n",
    "phen_matrix = pd.read_csv('./final_emaps/processed_fitnesses.csv', index_col=[0])\n",
    "single_phen = pd.read_csv('./final_emaps/single_fitnesses.csv', index_col=[0])"
   ]
  },
  {
   "cell_type": "code",
   "execution_count": 8,
   "metadata": {},
   "outputs": [],
   "source": [
    "# this is average fitness across two guides in primary emap, not single guide used for perturbseq\n",
    "single_fitnesses = single_phen['average_fitness']\n",
    "\n",
    "# fitness mapper, maps names to raw fitness values\n",
    "fitness_mapper = dict()\n",
    "for perturbation in pop.cells['guide_target'].unique():\n",
    "    first, second = perturbation.split('_')\n",
    "    try:\n",
    "        if 'NegCtrl' in second:\n",
    "            fitness_mapper[perturbation] = single_fitnesses.loc[first]\n",
    "        elif 'NegCtrl' in first:\n",
    "            fitness_mapper[perturbation] = single_fitnesses.loc[second]\n",
    "        else:\n",
    "            fitness_mapper[perturbation] = phen_matrix.loc[first, second]\n",
    "    except KeyError:\n",
    "        fitness_mapper[perturbation] = np.nan"
   ]
  },
  {
   "cell_type": "code",
   "execution_count": 9,
   "metadata": {},
   "outputs": [],
   "source": [
    "single_genes = np.intersect1d(reduce(np.union1d, mean_pop.cells.query('num_targets == 1')['guide_target'].map(lambda x: x.split('_'))),\n",
    "               emap.columns.map(lambda x: name_replacer.get(x, x)))\n",
    "# we know these don't work...\n",
    "single_genes = np.setdiff1d(single_genes, ['BAK1', 'BCL2L11'])\n",
    "\n",
    "# maps gene name to single (SLC38A2 is the lone exception where we don't have it in position 1)\n",
    "single_gene_perturbations = dict()\n",
    "\n",
    "for gene in single_genes:\n",
    "    if gene + '_NegCtrl0' in mean_pop.cells.index:\n",
    "        single_gene_perturbations[gene] = gene + '_NegCtrl0'\n",
    "    elif 'NegCtrl0_' + gene in mean_pop.cells.index:\n",
    "        single_gene_perturbations[gene] = 'NegCtrl0_' + gene\n",
    "        \n",
    "double_perturbations = mean_pop.cells.query('num_targets == 2').index\n",
    "perturbations = single_gene_perturbations.values()\n",
    "\n",
    "for p in double_perturbations:\n",
    "    gene1, gene2 = p.split('_')\n",
    "    if gene1 in single_genes and gene2 in single_gene_perturbations.keys():\n",
    "        perturbations.append(p)\n",
    "        \n",
    "fitnesses = mean_pop.cells.loc[perturbations, 'fitness']\n",
    "\n",
    "mapper = {v: k for k, v in single_gene_perturbations.iteritems()}"
   ]
  },
  {
   "cell_type": "code",
   "execution_count": 10,
   "metadata": {},
   "outputs": [],
   "source": [
    "# regr_fits = pd.read_csv('./data_sharing/regr_fits_final.csv', index_col=0)"
   ]
  },
  {
   "cell_type": "code",
   "execution_count": 11,
   "metadata": {},
   "outputs": [],
   "source": [
    "def figure_styles():\n",
    "\n",
    "    sns.set(font_scale=1.)\n",
    "\n",
    "    SMALL_SIZE = 12\n",
    "    MEDIUM_SIZE = 14\n",
    "    BIGGER_SIZE = 18\n",
    "\n",
    "    plt.rc('font', size=SMALL_SIZE)          # controls default text sizes\n",
    "    plt.rc('axes', titlesize=SMALL_SIZE)     # fontsize of the axes title\n",
    "    plt.rc('axes', labelsize=MEDIUM_SIZE)    # fontsize of the x and y labels\n",
    "    plt.rc('xtick', labelsize=SMALL_SIZE)    # fontsize of the tick labels\n",
    "    plt.rc('ytick', labelsize=SMALL_SIZE)    # fontsize of the tick labels\n",
    "    plt.rc('legend', fontsize=SMALL_SIZE)    # legend fontsize\n",
    "    plt.rc('figure', titlesize=BIGGER_SIZE)  # fontsize of the figure title\n",
    "\n",
    "    sns.set_style('white')\n",
    "\n",
    "figure_styles()"
   ]
  },
  {
   "cell_type": "markdown",
   "metadata": {},
   "source": [
    "# Fitting linear epistasis model"
   ]
  },
  {
   "cell_type": "code",
   "execution_count": 12,
   "metadata": {},
   "outputs": [],
   "source": [
    "from sklearn.linear_model import LinearRegression, TheilSenRegressor\n",
    "\n",
    "def get_model(first, second, double, variable_genes, matrix):\n",
    "    out = dict()\n",
    "    \n",
    "    singles_expr = matrix.loc[[first, second], variable_genes].T.values\n",
    "    first_expr = matrix.loc[first, variable_genes].values.reshape(-1, 1)\n",
    "    second_expr = matrix.loc[second, variable_genes].values.reshape(-1, 1)\n",
    "    double_expr = matrix.loc[double, variable_genes].values.reshape(-1, 1)\n",
    "    \n",
    "    ts = TheilSenRegressor(fit_intercept=False,\n",
    "                          max_subpopulation=1e5,\n",
    "                          max_iter=1000,\n",
    "                          random_state=1000)\n",
    "    \n",
    "    X = singles_expr\n",
    "    y = double_expr\n",
    "    ts.fit(X, y.ravel())\n",
    "    \n",
    "    return ts\n",
    "\n",
    "def get_model_predictions(first, second, double, variable_genes):\n",
    "    out = dict()\n",
    "    \n",
    "    singles_expr = matrix.loc[[first, second], variable_genes].T.values\n",
    "    first_expr = matrix.loc[first, variable_genes].values.reshape(-1, 1)\n",
    "    second_expr = matrix.loc[second, variable_genes].values.reshape(-1, 1)\n",
    "    double_expr = matrix.loc[double, variable_genes].values.reshape(-1, 1)\n",
    "    \n",
    "    regr = LinearRegression(fit_intercept=False)\n",
    "    ts = TheilSenRegressor(fit_intercept=False,\n",
    "                          max_subpopulation=1e5,\n",
    "                          max_iter=1000,\n",
    "                          random_state=1000)    \n",
    "    X = singles_expr\n",
    "    y = double_expr\n",
    "    regr.fit(X, y)\n",
    "    ts.fit(X, y.ravel())\n",
    "    Z = regr.predict(X)\n",
    "    Zts = ts.predict(X)\n",
    "    \n",
    "    out['name'] = double\n",
    "    out['pred'] = pd.Series(Z.flatten(), index=variable_genes, name=double)\n",
    "    out['ts_pred'] = pd.Series(Zts.flatten(), index=variable_genes, name=double)\n",
    "    out['first_expr'] = pd.Series(first_expr.flatten(), index=variable_genes, name=double)\n",
    "    out['second_expr'] = pd.Series(second_expr.flatten(), index=variable_genes, name=double)\n",
    "    out['double_expr'] = pd.Series(double_expr.flatten(), index=variable_genes, name=double)\n",
    "\n",
    "    return out"
   ]
  },
  {
   "cell_type": "code",
   "execution_count": 13,
   "metadata": {},
   "outputs": [
    {
     "name": "stdout",
     "output_type": "stream",
     "text": [
      "7353 control cells\n",
      "groupby: index in @key_barcodes (key = guide_target)\n"
     ]
    },
    {
     "name": "stderr",
     "output_type": "stream",
     "text": [
      "[Parallel(n_jobs=24)]: Done   2 tasks      | elapsed:    4.3s\n",
      "[Parallel(n_jobs=24)]: Done  13 tasks      | elapsed:    7.7s\n",
      "[Parallel(n_jobs=24)]: Done  24 tasks      | elapsed:   11.2s\n",
      "[Parallel(n_jobs=24)]: Done  37 tasks      | elapsed:   15.5s\n",
      "[Parallel(n_jobs=24)]: Done  50 tasks      | elapsed:   20.1s\n",
      "[Parallel(n_jobs=24)]: Done  65 tasks      | elapsed:   25.0s\n",
      "[Parallel(n_jobs=24)]: Done  80 tasks      | elapsed:   34.4s\n",
      "[Parallel(n_jobs=24)]: Done  97 tasks      | elapsed:   44.5s\n",
      "[Parallel(n_jobs=24)]: Done 114 tasks      | elapsed:   51.5s\n",
      "[Parallel(n_jobs=24)]: Done 133 tasks      | elapsed:   58.1s\n",
      "[Parallel(n_jobs=24)]: Done 152 tasks      | elapsed:  1.1min\n",
      "[Parallel(n_jobs=24)]: Done 173 tasks      | elapsed:  1.2min\n",
      "[Parallel(n_jobs=24)]: Done 194 tasks      | elapsed:  1.3min\n",
      "[Parallel(n_jobs=24)]: Done 217 tasks      | elapsed:  1.5min\n",
      "[Parallel(n_jobs=24)]: Done 240 tasks      | elapsed:  1.7min\n",
      "[Parallel(n_jobs=24)]: Done 269 out of 287 | elapsed:  2.0min remaining:    8.1s\n",
      "[Parallel(n_jobs=24)]: Done 287 out of 287 | elapsed:  2.1min finished\n"
     ]
    }
   ],
   "source": [
    "ks, ps, adj_ps = ks_de(pop,\n",
    "                       key='guide_target',\n",
    "                       control_cells='perturbed == \"control\"',\n",
    "                       genes='mean > 0.5',\n",
    "                       normalized=True,\n",
    "                       alpha=0.001,\n",
    "                       n_jobs=24)"
   ]
  },
  {
   "cell_type": "markdown",
   "metadata": {},
   "source": [
    "Choose genes that are used for fitting linear model (\"abundant\" genes = mean expression > 0.5). We then only fit the model to perturbations where doubly perturbed cells have at least 10 differentially expressed genes abundant genes."
   ]
  },
  {
   "cell_type": "code",
   "execution_count": 14,
   "metadata": {},
   "outputs": [],
   "source": [
    "perturbation_ids = pop.gene_ids(np.union1d(mean_pop.cells['first_target'], mean_pop.cells['second_target']))\n",
    "abundant_genes = np.setdiff1d(pop.genes.query('mean > 0.5').index.values, perturbation_ids)\n",
    "\n",
    "doubles = list()\n",
    "for idx, row in mean_pop.cells.loc[perturbations].query('num_targets == 2').iterrows():\n",
    "    first = row['first_target'] + '_NegCtrl0'\n",
    "    second = 'NegCtrl0_' + row['second_target']\n",
    "    if (first in mean_pop.cells.index) and (second in mean_pop.cells.index):\n",
    "        doubles.append((first, second, idx))\n",
    "\n",
    "# only fit when double has more than 10 differentially expressed genes (very permissive)\n",
    "# this will incidentally remove BCL2L11 and BAK1 doubles which we know are broken\n",
    "gene_lists = [(first, second, double, abundant_genes) for first, second, double in doubles\n",
    "               if ((adj_ps[double] < 0.001).sum() > 10)]"
   ]
  },
  {
   "cell_type": "markdown",
   "metadata": {},
   "source": [
    "Regenerate linear epistasis model predictions"
   ]
  },
  {
   "cell_type": "code",
   "execution_count": 15,
   "metadata": {},
   "outputs": [
    {
     "name": "stderr",
     "output_type": "stream",
     "text": [
      "[Parallel(n_jobs=24)]: Done   2 tasks      | elapsed:   13.8s\n",
      "[Parallel(n_jobs=24)]: Done  13 tasks      | elapsed:   14.5s\n",
      "[Parallel(n_jobs=24)]: Done  24 tasks      | elapsed:   15.0s\n",
      "[Parallel(n_jobs=24)]: Done  37 tasks      | elapsed:   28.2s\n",
      "[Parallel(n_jobs=24)]: Done  50 tasks      | elapsed:   39.9s\n",
      "[Parallel(n_jobs=24)]: Done  65 tasks      | elapsed:   41.3s\n",
      "[Parallel(n_jobs=24)]: Done  91 out of 125 | elapsed:   54.3s remaining:   20.3s\n",
      "[Parallel(n_jobs=24)]: Done 104 out of 125 | elapsed:  1.1min remaining:   13.0s\n",
      "[Parallel(n_jobs=24)]: Done 117 out of 125 | elapsed:  1.1min remaining:    4.6s\n",
      "[Parallel(n_jobs=24)]: Done 125 out of 125 | elapsed:  1.3min finished\n"
     ]
    }
   ],
   "source": [
    "from joblib import Parallel, delayed\n",
    "\n",
    "matrix = mean_pop.normalized_matrix\n",
    "\n",
    "pred_data = Parallel(n_jobs=24, verbose=10)(delayed(get_model_predictions)(*double) for double in gene_lists)"
   ]
  },
  {
   "cell_type": "markdown",
   "metadata": {},
   "source": [
    "Global variables used by some of the plotting routines below"
   ]
  },
  {
   "cell_type": "code",
   "execution_count": 16,
   "metadata": {},
   "outputs": [],
   "source": [
    "preds = pd.DataFrame([pred['pred'] for pred in pred_data])\n",
    "ts_preds = pd.DataFrame([pred['ts_pred'] for pred in pred_data])\n",
    "first_exprs = pd.DataFrame([pred['first_expr'] for pred in pred_data])\n",
    "second_exprs = pd.DataFrame([pred['second_expr'] for pred in pred_data])\n",
    "double_exprs = pd.DataFrame([pred['double_expr'] for pred in pred_data])"
   ]
  },
  {
   "cell_type": "markdown",
   "metadata": {},
   "source": [
    "# Plotting routines for comparing expression in singles and double"
   ]
  },
  {
   "cell_type": "code",
   "execution_count": 17,
   "metadata": {},
   "outputs": [],
   "source": [
    "from dcor import distance_correlation\n",
    "\n",
    "def compare_singles_to_double(double, limits=[-2, 2], figsize=[3, 3], plot_perfect=False):\n",
    "    first, second = double.split('_')\n",
    "\n",
    "    plt.figure(figsize=figsize)\n",
    "    plt.axis('equal')\n",
    "    s1 = plt.scatter(first_exprs.loc[double],\n",
    "                     double_exprs.loc[double],\n",
    "                     s=10, alpha=0.3, color='#566573')\n",
    "    s2 = plt.scatter(second_exprs.loc[double],\n",
    "                     double_exprs.loc[double],\n",
    "                     s=10, alpha=0.3)\n",
    "    plt.plot(limits, limits, color='grey', zorder=0, ls='-')\n",
    "    if plot_perfect:\n",
    "        l, = plt.plot(np.asarray(limits), 2.*np.asarray(limits), color='grey', zorder=0, ls='--')\n",
    "    plt.xlim(limits)\n",
    "    plt.ylim(limits)\n",
    "    \n",
    "    if plot_perfect:\n",
    "        plt.legend([s1, s2, l], [first, second, 'perfect additive'])\n",
    "    else:\n",
    "        plt.legend([s1, s2], [first, second])\n",
    "\n",
    "    plt.xlabel('single')\n",
    "    plt.ylabel(' / '.join(double.split('_')) + ' double')\n",
    "    plt.title(' / '.join(double.split('_')))\n",
    "    \n",
    "def compare_double_to_model(double, limits=[-2,2], model_type='ts', figsize=[3,3], s=5):\n",
    "    first, second = double.split('_')\n",
    "\n",
    "    if model_type == 'ts':\n",
    "        pred = ts_preds.loc[double]\n",
    "    elif model_type == 'regression':\n",
    "        pred = preds.loc[double]  \n",
    "    elif model_type == 'additive':\n",
    "        pred = first_exprs.loc[double] + second_exprs.loc[double]\n",
    "    \n",
    "    plt.figure(figsize=figsize)\n",
    "    plt.axis('equal')\n",
    "    s1 = plt.scatter(pred,\n",
    "                     double_exprs.loc[double],\n",
    "                     s=s, alpha=0.3, color='#566573')\n",
    "    plt.plot(limits, limits, color='grey', zorder=0, ls='-')\n",
    "    plt.xlim(limits)\n",
    "    plt.ylim(limits)\n",
    "\n",
    "    plt.xlabel('c1(' + first + ') + c2(' + second + ')')\n",
    "    plt.ylabel(' / '.join(double.split('_')) + ' double')\n",
    "    plt.title(' / '.join(double.split('_')))\n",
    "    print(pred.corr(double_exprs.loc[double]))\n",
    "    print(distance_correlation(pred.values.reshape(-1, 1), double_exprs.loc[double].values.reshape(-1, 1)))\n",
    "    \n",
    "def compare_singles(double, limits=[-2, 2]):\n",
    "    first, second = double.split('_')\n",
    "\n",
    "    plt.figure(figsize=[3,3])\n",
    "    plt.axis('equal')\n",
    "    s1 = plt.scatter(first_exprs.loc[double],\n",
    "                     second_exprs.loc[double],\n",
    "                     s=10, alpha=0.3, color='#566573')\n",
    "    plt.plot(limits, limits, color='grey', zorder=0, ls='-')\n",
    "    plt.xlim(limits)\n",
    "    plt.ylim(limits)\n",
    "\n",
    "    plt.xlabel(first)\n",
    "    plt.ylabel(second)\n",
    "    plt.title(' / '.join(double.split('_')))\n",
    "\n",
    "def get_model(mean_pop, double, variable_genes):\n",
    "    first, second = double.split('_')\n",
    "    first_id = first + '_NegCtrl0'\n",
    "    second_id = 'NegCtrl0_' + second\n",
    "    chosen_perturbations = [first_id, second_id, double]\n",
    "    \n",
    "    matrix = mean_pop.where(cells='index in @chosen_perturbations',\n",
    "                            genes=variable_genes,\n",
    "                            normalized=True,\n",
    "                            chosen_perturbations=chosen_perturbations)\n",
    "    \n",
    "    singles_expr = matrix.loc[[first_id, second_id], variable_genes].T.values\n",
    "    double_expr = matrix.loc[double, variable_genes].values.reshape(-1, 1)\n",
    "    \n",
    "    ts = TheilSenRegressor(fit_intercept=False,\n",
    "                          max_subpopulation=1e5,\n",
    "                          max_iter=1000,\n",
    "                          random_state=1000)\n",
    "    \n",
    "    X = singles_expr\n",
    "    y = double_expr\n",
    "    ts.fit(X, y.ravel())\n",
    "    \n",
    "    return ts\n",
    "\n",
    "def double_predicted_expression(mean_pop, double, genes, model_fit_genes, additive_model=False, include_difference=True):\n",
    "    first, second = double.split('_')\n",
    "    first_id = first + '_NegCtrl0'\n",
    "    second_id = 'NegCtrl0_' + second\n",
    "    chosen_perturbations = [first_id, second_id, double]\n",
    "    \n",
    "    mean_expr = mean_pop.where(cells=chosen_perturbations,\n",
    "                          genes=genes,\n",
    "                          normalized=True,\n",
    "                          gene_names=True)\n",
    "    \n",
    "    if additive_model:\n",
    "        mean_expr.loc['additive prediction'] = mean_expr.loc[first_id] + mean_expr.loc[second_id]\n",
    "        if include_difference:\n",
    "            mean_expr.loc['difference'] = mean_expr.loc[double] - mean_expr.loc['additive prediction']\n",
    "    else:\n",
    "        ts = get_model(mean_pop, double, model_fit_genes)\n",
    "        mean_expr.loc['model prediction'] = pd.Series(ts.predict(mean_expr.loc[[first_id, second_id]].T),\n",
    "                                        index=mean_expr.columns)\n",
    "        if include_difference:\n",
    "            mean_expr.loc['difference'] = mean_expr.loc[double] - mean_expr.loc['model prediction']\n",
    "    \n",
    "    return mean_expr\n",
    "\n",
    "def double_subpop(pop, double, balance_representation=True, include_control_cells=False):\n",
    "    first, second = double.split('_')\n",
    "    first_id = first + '_NegCtrl0'\n",
    "    second_id = 'NegCtrl0_' + second\n",
    "    chosen_perturbations = [first_id, second_id, double]\n",
    "    \n",
    "    if balance_representation:\n",
    "        min_cell_number = mean_pop.cells.query('guide_target in @chosen_perturbations')['num_cells'].min()\n",
    "        first_cells = pop.cells.query('guide_target == @first_id').sample(n=min_cell_number, replace=False, random_state=100).index\n",
    "        second_cells = pop.cells.query('guide_target == @second_id').sample(n=min_cell_number, replace=False, random_state=100).index\n",
    "        double_cells = pop.cells.query('guide_target == @double').sample(n=min_cell_number, replace=False, random_state=100).index\n",
    "        if include_control_cells:\n",
    "            control_cells = control_pop.cells.sample(n=min_cell_number, replace=False, random_state=100).index\n",
    "        else:\n",
    "            control_cells = []\n",
    "        chosen_cells = reduce(np.union1d, [first_cells, second_cells, double_cells, control_cells])\n",
    "    else:\n",
    "        chosen_cells = pop.cells.query('guide_target in @chosen_perturbations').index\n",
    "        \n",
    "    subpop = pop.subpopulation(cells='index in @chosen_cells',\n",
    "                           normalized_matrix='inherit',\n",
    "                           chosen_cells=chosen_cells)\n",
    "    return subpop\n",
    "\n",
    "def double_variable_expression(pop, double, test_genes, model_fit_genes, num_features=100, balance_representation=True, include_difference=True, additive_model=False, include_control_cells=False):\n",
    "    first, second = double.split('_')\n",
    "    \n",
    "    subpop = double_subpop(pop, double, balance_representation=balance_representation, include_control_cells=include_control_cells)\n",
    "    \n",
    "    control_targets = control_pop.cells['guide_target'].unique()\n",
    "    subpop.cells['perturbation'] = subpop.cells['guide_target'].map(lambda x: 'control' if x in control_targets else x)\n",
    "    \n",
    "    res = tree_selector(subpop,\n",
    "                    'perturbation',\n",
    "                    num_features=num_features,\n",
    "                    genes=test_genes,\n",
    "                    normalized=True,\n",
    "                    dropna=True,\n",
    "                    ignore=pop.gene_ids([first, second]),\n",
    "                    clf='extra',\n",
    "                    n_jobs=32,\n",
    "                    random_state=100,\n",
    "                    )\n",
    "    \n",
    "    mean_expr = double_predicted_expression(mean_pop,\n",
    "                                            double,\n",
    "                                            res.selected_genes,\n",
    "                                            model_fit_genes,\n",
    "                                            additive_model=additive_model,\n",
    "                                            include_difference=include_difference)\n",
    "    return mean_expr\n",
    "\n",
    "def double_variable_expression_heatmap(pop, double, test_genes, model_fit_genes, num_features=100, include_model=True, include_difference=True, balance_representation=True, additive_model=False, figsize=[8,3], square=False, quantiles=[0.03, 0.97], vmin=None, vmax=None, col_linkage=None, include_control_cells=False):\n",
    "    mean_expr = double_variable_expression(pop,\n",
    "                                           double,\n",
    "                                           test_genes=test_genes,\n",
    "                                           model_fit_genes=model_fit_genes,\n",
    "                                           num_features=num_features,\n",
    "                                           balance_representation=balance_representation,\n",
    "                                           additive_model=additive_model,\n",
    "                                           include_control_cells=include_control_cells,\n",
    "                                           include_difference=include_difference)\n",
    "    \n",
    "    \n",
    "    if vmin is None and vmax is None:\n",
    "        quantile_range = np.max(np.abs(mean_expr.stack().quantile(quantiles)))\n",
    "        vmin = -quantile_range\n",
    "        vmax = quantile_range\n",
    "    \n",
    "    if not include_model:\n",
    "        mean_expr = mean_expr.iloc[0:3]\n",
    "    \n",
    "    mean_expr.index = mean_expr.index.str.replace('_', ' / ').str.replace('NegCtrl0', 'ctrl')\n",
    "    \n",
    "    if col_linkage is None:\n",
    "        cg = sns.clustermap(mean_expr,\n",
    "                           figsize=figsize,\n",
    "                           method='ward',\n",
    "                           row_cluster=False,\n",
    "                           cmap=plt.cm.get_cmap('RdBu_r'),\n",
    "                           vmin=vmin, vmax=vmax,\n",
    "                           square=square,\n",
    "                           xticklabels=True)\n",
    "    else:\n",
    "        cg = sns.clustermap(mean_expr,\n",
    "                           figsize=figsize,\n",
    "                           col_linkage=col_linkage,\n",
    "                           row_cluster=False,\n",
    "                           cmap=plt.cm.get_cmap('RdBu_r'),\n",
    "                           vmin=vmin, vmax=vmax,\n",
    "                           square=square,\n",
    "                           xticklabels=True)\n",
    "    return mean_expr, cg\n",
    "\n",
    "from umap import UMAP\n",
    "\n",
    "def double_umap(pop, double, genes, num_features=100, balance_representation=True, figsize=[3,3], metric='correlation', include_control_cells=False, use_pca=False, s=10):\n",
    "    first, second = double.split('_')\n",
    "    first_id = first + '_NegCtrl0'\n",
    "    second_id = 'NegCtrl0_' + second\n",
    "\n",
    "    subpop = double_subpop(pop, double, include_control_cells=include_control_cells)\n",
    "    control_targets = control_pop.cells['guide_target'].unique()\n",
    "    subpop.cells['perturbation'] = subpop.cells['guide_target'].map(lambda x: 'control' if x in control_targets else x)\n",
    "\n",
    "    res = tree_selector(subpop,\n",
    "                'perturbation',\n",
    "                num_features=num_features,\n",
    "                genes=genes,\n",
    "                normalized=True,\n",
    "                dropna=True,\n",
    "                ignore=pop.gene_ids([first, second]),\n",
    "                clf='extra',\n",
    "                n_jobs=32,\n",
    "                random_state=100,\n",
    "                )\n",
    "\n",
    "    mapper = {first_id: 'powderblue',\n",
    "             double: 'lightslategray',\n",
    "             second_id: 'navy',\n",
    "             'control': 'pink'}\n",
    "\n",
    "    transformer = PCAUMAPReducer(n_neighbors=10, metric=metric, random_state=100, use_pca=use_pca)\n",
    "    coords = subpop.fit_transform(transformer,\n",
    "                             genes=res.selected_genes,\n",
    "                             normalized=True,\n",
    "                             prefix='UMAP')\n",
    "    coords['perturbation'] = subpop.cells['perturbation']\n",
    "    \n",
    "    plt.figure(figsize=figsize)\n",
    "    for perturbation in subpop.cells['perturbation'].unique():\n",
    "        plt.scatter(coords.query('perturbation == \"{0}\"'.format(perturbation))['UMAP0'],\n",
    "                coords.query('perturbation == \"{0}\"'.format(perturbation))['UMAP1'],\n",
    "                c=mapper[perturbation], alpha=0.5, s=s, label=perturbation)\n",
    "    plt.axis('off');\n",
    "    plt.legend();"
   ]
  },
  {
   "cell_type": "markdown",
   "metadata": {},
   "source": [
    "# CBL-CNN1 expression heatmap"
   ]
  },
  {
   "cell_type": "markdown",
   "metadata": {},
   "source": [
    "Example of differentially expressed genes. Differential expression is determined by training a random forest classifier to distinguish cells from the different genetic backgrounds based on gene expression. The most informative genes for classification will naturally be reproducibly variable across conditions. The classification accuracy is a natural guage for how different cells behave across the different genetic backgrounds."
   ]
  },
  {
   "cell_type": "code",
   "execution_count": 18,
   "metadata": {
    "scrolled": false
   },
   "outputs": [
    {
     "name": "stdout",
     "output_type": "stream",
     "text": [
      "Generating summary statistics...\n",
      "Done.\n",
      "Inheriting from parent normalized matrix...\n",
      "Training (genes: mean > 0.05)...\n",
      "Using 1367 estimators for 9353 features...\n",
      "Feature prediction accuracy (test size: 20.0%): 0.666666666667\n",
      "\n",
      "               precision    recall  f1-score   support\n",
      "\n",
      "     CBL_CNN1       0.66      0.78      0.71        58\n",
      " CBL_NegCtrl0       0.65      0.55      0.60        58\n",
      "NegCtrl0_CNN1       0.70      0.58      0.63        57\n",
      "      control       0.66      0.76      0.70        58\n",
      "\n",
      "    micro avg       0.67      0.67      0.67       231\n",
      "    macro avg       0.67      0.67      0.66       231\n",
      " weighted avg       0.67      0.67      0.66       231\n",
      "\n",
      "Picked 30 features.\n",
      "Using 77 estimators for 30 features...\n",
      "Feature prediction accuracy (test size: 20.0%): 0.78354978355\n",
      "\n",
      "               precision    recall  f1-score   support\n",
      "\n",
      "     CBL_CNN1       0.82      0.69      0.75        58\n",
      " CBL_NegCtrl0       0.78      0.81      0.80        58\n",
      "NegCtrl0_CNN1       0.77      0.70      0.73        57\n",
      "      control       0.77      0.93      0.84        58\n",
      "\n",
      "    micro avg       0.78      0.78      0.78       231\n",
      "    macro avg       0.79      0.78      0.78       231\n",
      " weighted avg       0.79      0.78      0.78       231\n",
      "\n"
     ]
    },
    {
     "data": {
      "image/png": "[encoded data removed]",
      "text/plain": [
       "<Figure size 432x93.6 with 4 Axes>"
      ]
     },
     "metadata": {},
     "output_type": "display_data"
    }
   ],
   "source": [
    "sns.set(font_scale=1)\n",
    "_, cg = double_variable_expression_heatmap(pop,\n",
    "                                           'CBL_CNN1',\n",
    "                                           test_genes='mean > 0.05',\n",
    "                                           model_fit_genes=abundant_genes,\n",
    "                                           figsize=[6, 1.3],\n",
    "                                           num_features=30,\n",
    "                                           additive_model=False,\n",
    "                                           include_control_cells=True,\n",
    "                                           include_model=False,\n",
    "                                           square=False,\n",
    "                                          vmin=-4, vmax=4)\n",
    "cg.savefig('./figures/double_heatmap_examples_CBL_CNN1.pdf')"
   ]
  },
  {
   "cell_type": "markdown",
   "metadata": {},
   "source": [
    "# Enrichr gene set enrichment analysis"
   ]
  },
  {
   "cell_type": "markdown",
   "metadata": {},
   "source": [
    "Look again for differentially expressed genes but now across all genes with mean expression > 0.05."
   ]
  },
  {
   "cell_type": "code",
   "execution_count": 19,
   "metadata": {},
   "outputs": [
    {
     "name": "stdout",
     "output_type": "stream",
     "text": [
      "7353 control cells\n",
      "groupby: index in @key_barcodes (key = guide_target)\n"
     ]
    },
    {
     "name": "stderr",
     "output_type": "stream",
     "text": [
      "[Parallel(n_jobs=24)]: Done   2 tasks      | elapsed:   12.5s\n",
      "[Parallel(n_jobs=24)]: Done  13 tasks      | elapsed:   24.6s\n",
      "[Parallel(n_jobs=24)]: Done  24 tasks      | elapsed:   34.0s\n",
      "[Parallel(n_jobs=24)]: Done  37 tasks      | elapsed:   46.4s\n",
      "[Parallel(n_jobs=24)]: Done  50 tasks      | elapsed:   59.5s\n",
      "[Parallel(n_jobs=24)]: Done  65 tasks      | elapsed:  1.2min\n",
      "[Parallel(n_jobs=24)]: Done  80 tasks      | elapsed:  1.5min\n",
      "[Parallel(n_jobs=24)]: Done  97 tasks      | elapsed:  1.8min\n",
      "[Parallel(n_jobs=24)]: Done 114 tasks      | elapsed:  2.0min\n",
      "[Parallel(n_jobs=24)]: Done 133 tasks      | elapsed:  2.3min\n",
      "[Parallel(n_jobs=24)]: Done 152 tasks      | elapsed:  2.6min\n",
      "[Parallel(n_jobs=24)]: Done 173 tasks      | elapsed:  3.0min\n",
      "[Parallel(n_jobs=24)]: Done 194 tasks      | elapsed:  3.3min\n",
      "[Parallel(n_jobs=24)]: Done 217 tasks      | elapsed:  3.7min\n",
      "[Parallel(n_jobs=24)]: Done 240 tasks      | elapsed:  4.1min\n",
      "[Parallel(n_jobs=24)]: Done 269 out of 287 | elapsed:  4.6min remaining:   18.3s\n",
      "[Parallel(n_jobs=24)]: Done 287 out of 287 | elapsed:  4.8min finished\n"
     ]
    }
   ],
   "source": [
    "_, _, exact_adj_ps = ks_de(pop,\n",
    "                       key='guide_target',\n",
    "                       control_cells='perturbed == \"control\"',\n",
    "                       genes='mean > 0.05',\n",
    "                       normalized=True,\n",
    "                       alpha=0.001,\n",
    "                       n_jobs=24)"
   ]
  },
  {
   "cell_type": "code",
   "execution_count": 20,
   "metadata": {},
   "outputs": [],
   "source": [
    "de_genes = mean_pop.where(genes=exact_adj_ps['CBL_CNN1'].sort_values().head(500).index,\n",
    "                              cells=['CBL_CNN1'],\n",
    "                              gene_names=True,\n",
    "                              normalized=True).T['CBL_CNN1'].sort_values(ascending=False)\n",
    "\n",
    "overexpressed = de_genes[de_genes > 0]"
   ]
  },
  {
   "cell_type": "code",
   "execution_count": 21,
   "metadata": {},
   "outputs": [
    {
     "name": "stdout",
     "output_type": "stream",
     "text": [
      "HBZ\n",
      "SLC25A37\n",
      "CNN1\n",
      "HBA2\n",
      "HBA1\n",
      "ALAS2\n",
      "HBG2\n",
      "HBG1\n",
      "BLVRB\n",
      "CHI3L2\n",
      "APOE\n",
      "APOC1\n",
      "COL18A1\n",
      "SMIM1\n",
      "GYPB\n",
      "TESC\n",
      "REEP6\n",
      "MYL4\n",
      "GYPA\n",
      "GSTP1\n",
      "LBH\n",
      "CD7\n",
      "HEMGN\n",
      "EEF1A1\n",
      "NARF\n",
      "TMOD1\n",
      "RP11-717F1.1\n",
      "GYPC\n",
      "FTH1\n",
      "FAM210B\n",
      "ASAH1\n",
      "CBL\n",
      "GUK1\n",
      "KLF1\n",
      "ZNF431\n",
      "FLOT2\n",
      "ZFP36L1\n",
      "TCF4\n",
      "CSTB\n",
      "UROS\n",
      "TXNIP\n",
      "GYPE\n",
      "FAM65C\n",
      "NCOA4\n",
      "RPS8\n",
      "FAM83A\n",
      "PRDX5\n",
      "HNRNPA1\n",
      "PSAP\n",
      "HMBS\n"
     ]
    }
   ],
   "source": [
    "for gene in overexpressed.head(50).index:\n",
    "    print gene"
   ]
  },
  {
   "cell_type": "markdown",
   "metadata": {},
   "source": [
    "Above gene list was then submitted to Enrichr, with results below"
   ]
  },
  {
   "cell_type": "code",
   "execution_count": 22,
   "metadata": {},
   "outputs": [],
   "source": [
    "df = pd.read_csv('./data_sharing/ARCHS4_Tissues_table.txt', header=[0], sep='\\t')"
   ]
  },
  {
   "cell_type": "code",
   "execution_count": 23,
   "metadata": {},
   "outputs": [
    {
     "data": {
      "image/png": "[encoded data removed]",
      "text/plain": [
       "<Figure size 108x216 with 1 Axes>"
      ]
     },
     "metadata": {},
     "output_type": "display_data"
    }
   ],
   "source": [
    "figure_styles()\n",
    "sns.set_style('whitegrid')\n",
    "plt.figure(figsize=[1.5, 3])\n",
    "sns.barplot(x=\"Combined Score\", y=\"Term\", data=df.head(5), color=\"b\")\n",
    "plt.xticks([0, 20, 40])\n",
    "sns.despine(right=True, bottom=True)\n",
    "plt.savefig('./figures/CBL_CNN1_tissue.pdf', bbox_inches='tight')"
   ]
  },
  {
   "cell_type": "markdown",
   "metadata": {},
   "source": [
    "# CBL-CNN1 UMAP projection"
   ]
  },
  {
   "cell_type": "markdown",
   "metadata": {},
   "source": [
    "Again uses random forest classifier. Selects 200 genes with mean expression > 0.5 (i.e. the \"abundant genes\" used to fit the model) that vary across conditions..."
   ]
  },
  {
   "cell_type": "code",
   "execution_count": 24,
   "metadata": {},
   "outputs": [
    {
     "name": "stdout",
     "output_type": "stream",
     "text": [
      "Generating summary statistics...\n",
      "Done.\n",
      "Inheriting from parent normalized matrix...\n",
      "Training (genes: mean > 0.5)...\n",
      "Using 753 estimators for 2836 features...\n",
      "Feature prediction accuracy (test size: 20.0%): 0.69696969697\n",
      "\n",
      "               precision    recall  f1-score   support\n",
      "\n",
      "     CBL_CNN1       0.69      0.79      0.74        58\n",
      " CBL_NegCtrl0       0.67      0.59      0.62        58\n",
      "NegCtrl0_CNN1       0.79      0.60      0.68        57\n",
      "      control       0.67      0.81      0.73        58\n",
      "\n",
      "    micro avg       0.70      0.70      0.70       231\n",
      "    macro avg       0.70      0.70      0.69       231\n",
      " weighted avg       0.70      0.70      0.69       231\n",
      "\n",
      "Picked 200 features.\n",
      "Using 200 estimators for 200 features...\n",
      "Feature prediction accuracy (test size: 20.0%): 0.792207792208\n",
      "\n",
      "               precision    recall  f1-score   support\n",
      "\n",
      "     CBL_CNN1       0.84      0.79      0.81        58\n",
      " CBL_NegCtrl0       0.78      0.78      0.78        58\n",
      "NegCtrl0_CNN1       0.75      0.67      0.70        57\n",
      "      control       0.81      0.93      0.86        58\n",
      "\n",
      "    micro avg       0.79      0.79      0.79       231\n",
      "    macro avg       0.79      0.79      0.79       231\n",
      " weighted avg       0.79      0.79      0.79       231\n",
      "\n",
      "Performing PCA...\n",
      "Performing UMAP...\n",
      "Done.\n"
     ]
    },
    {
     "data": {
      "image/png": "[encoded data removed]",
      "text/plain": [
       "<Figure size 288x288 with 1 Axes>"
      ]
     },
     "metadata": {},
     "output_type": "display_data"
    }
   ],
   "source": [
    "double_umap(pop,\n",
    "            'CBL_CNN1',\n",
    "            genes='mean > 0.5',\n",
    "            num_features=200,\n",
    "            metric='euclidean',\n",
    "            include_control_cells=True,\n",
    "            use_pca=True,\n",
    "            figsize=[4, 4],\n",
    "            s=20)\n",
    "plt.savefig('./figures/cbl_cnn1_example_umap.pdf', bbox_inches='tight')"
   ]
  },
  {
   "cell_type": "markdown",
   "metadata": {},
   "source": [
    "# Other CBL-CNN1 experiments"
   ]
  },
  {
   "cell_type": "code",
   "execution_count": 25,
   "metadata": {},
   "outputs": [],
   "source": [
    "cdna_expr_data = pd.read_excel('./data_sharing/K562 D6 facs experiment.xlsx')"
   ]
  },
  {
   "cell_type": "code",
   "execution_count": 26,
   "metadata": {},
   "outputs": [
    {
     "data": {
      "text/html": [
       "<div>\n",
       "<style scoped>\n",
       "    .dataframe tbody tr th:only-of-type {\n",
       "        vertical-align: middle;\n",
       "    }\n",
       "\n",
       "    .dataframe tbody tr th {\n",
       "        vertical-align: top;\n",
       "    }\n",
       "\n",
       "    .dataframe thead th {\n",
       "        text-align: right;\n",
       "    }\n",
       "</style>\n",
       "<table border=\"1\" class=\"dataframe\">\n",
       "  <thead>\n",
       "    <tr style=\"text-align: right;\">\n",
       "      <th></th>\n",
       "      <th>Control</th>\n",
       "      <th>CBL</th>\n",
       "      <th>CNN1</th>\n",
       "      <th>CBL/CNN1</th>\n",
       "    </tr>\n",
       "  </thead>\n",
       "  <tbody>\n",
       "    <tr>\n",
       "      <th>K562 CD235a</th>\n",
       "      <td>13638</td>\n",
       "      <td>24646.2125</td>\n",
       "      <td>17823.3591</td>\n",
       "      <td>36987.4636</td>\n",
       "    </tr>\n",
       "    <tr>\n",
       "      <th>K562 CD71</th>\n",
       "      <td>12046</td>\n",
       "      <td>14891.6793</td>\n",
       "      <td>13592.5433</td>\n",
       "      <td>17208.9053</td>\n",
       "    </tr>\n",
       "  </tbody>\n",
       "</table>\n",
       "</div>"
      ],
      "text/plain": [
       "             Control        CBL       CNN1   CBL/CNN1\n",
       "K562 CD235a    13638 24646.2125 17823.3591 36987.4636\n",
       "K562 CD71      12046 14891.6793 13592.5433 17208.9053"
      ]
     },
     "execution_count": 26,
     "metadata": {},
     "output_type": "execute_result"
    }
   ],
   "source": [
    "cdna_expr_data"
   ]
  },
  {
   "cell_type": "code",
   "execution_count": 27,
   "metadata": {},
   "outputs": [],
   "source": [
    "df = pd.DataFrame(cdna_expr_data.loc['K562 CD235a']).T.melt()"
   ]
  },
  {
   "cell_type": "code",
   "execution_count": 28,
   "metadata": {},
   "outputs": [],
   "source": [
    "hue_mapper = {'CBL': 'powderblue',\n",
    "             'CBL/CNN1': 'lightslategray',\n",
    "             'CNN1': 'navy',\n",
    "             'Control': 'pink'}"
   ]
  },
  {
   "cell_type": "code",
   "execution_count": 29,
   "metadata": {},
   "outputs": [
    {
     "data": {
      "image/png": "[encoded data removed]",
      "text/plain": [
       "<Figure size 216x144 with 1 Axes>"
      ]
     },
     "metadata": {},
     "output_type": "display_data"
    }
   ],
   "source": [
    "figure_styles()\n",
    "plt.figure(figsize=[3, 2])\n",
    "g = sns.barplot(x='variable', y='value', data=df, palette=hue_mapper)\n",
    "g.set_xticklabels(g.get_xticklabels(), rotation=45);\n",
    "plt.ylabel('Median fluorescence intensity')\n",
    "plt.xlabel('')\n",
    "plt.title('CD235a');\n",
    "plt.savefig('./figures/K562_cDNA_CD235a.pdf', bbox_inches='tight')"
   ]
  },
  {
   "cell_type": "code",
   "execution_count": 30,
   "metadata": {},
   "outputs": [],
   "source": [
    "df = pd.DataFrame(cdna_expr_data.loc['K562 CD71']).T.melt()"
   ]
  },
  {
   "cell_type": "code",
   "execution_count": 31,
   "metadata": {},
   "outputs": [
    {
     "data": {
      "image/png": "[encoded data removed]",
      "text/plain": [
       "<Figure size 216x144 with 1 Axes>"
      ]
     },
     "metadata": {},
     "output_type": "display_data"
    }
   ],
   "source": [
    "figure_styles()\n",
    "plt.figure(figsize=[3, 2])\n",
    "g = sns.barplot(x='variable', y='value', data=df, palette=hue_mapper)\n",
    "g.set_xticklabels(g.get_xticklabels(), rotation=45);\n",
    "plt.ylabel('Median fluorescence intensity')\n",
    "plt.xlabel('')\n",
    "plt.title('CD71');\n",
    "plt.savefig('./figures/K562_cDNA_CD71.pdf', bbox_inches='tight')"
   ]
  },
  {
   "cell_type": "markdown",
   "metadata": {},
   "source": [
    "# Scatter for model fit"
   ]
  },
  {
   "cell_type": "markdown",
   "metadata": {},
   "source": [
    "This is a plot for all genes comparing the prediction from the fit to the actual expression in the doubles"
   ]
  },
  {
   "cell_type": "code",
   "execution_count": 32,
   "metadata": {},
   "outputs": [
    {
     "name": "stdout",
     "output_type": "stream",
     "text": [
      "0.8203773017799205\n"
     ]
    },
    {
     "name": "stderr",
     "output_type": "stream",
     "text": [
      "/home/tmn/.local/lib/python2.7/site-packages/dcor/_utils.py:88: FutureWarning: Conversion of the second argument of issubdtype from `float` to `np.floating` is deprecated. In future, it will be treated as `np.float64 == np.dtype(float).type`.\n",
      "  return ((np.issubdtype(x.dtype, float) and\n"
     ]
    },
    {
     "name": "stdout",
     "output_type": "stream",
     "text": [
      "0.767189706603065\n"
     ]
    },
    {
     "data": {
      "image/png": "[encoded data removed]",
      "text/plain": [
       "<Figure size 144x144 with 1 Axes>"
      ]
     },
     "metadata": {},
     "output_type": "display_data"
    }
   ],
   "source": [
    "compare_double_to_model('CBL_CNN1', limits=[-2, 10], model_type='ts', figsize=[2,2], s=10)\n",
    "plt.savefig('./figures/double_heatmap_examples_CBL_CNN1_scatter.pdf', bbox_inches='tight')"
   ]
  },
  {
   "cell_type": "markdown",
   "metadata": {},
   "source": [
    "# Other examples of GIs"
   ]
  },
  {
   "cell_type": "code",
   "execution_count": 33,
   "metadata": {},
   "outputs": [
    {
     "name": "stdout",
     "output_type": "stream",
     "text": [
      "Generating summary statistics...\n",
      "Done.\n",
      "Inheriting from parent normalized matrix...\n",
      "Training (genes: mean > 0.5)...\n",
      "Using 731 estimators for 2674 features...\n",
      "Feature prediction accuracy (test size: 20.0%): 0.632258064516\n",
      "\n",
      "                precision    recall  f1-score   support\n",
      "\n",
      "    KLF1_CEBPA       0.60      0.46      0.52        52\n",
      " KLF1_NegCtrl0       0.63      0.94      0.76        51\n",
      "NegCtrl0_CEBPA       0.67      0.50      0.57        52\n",
      "\n",
      "     micro avg       0.63      0.63      0.63       155\n",
      "     macro avg       0.63      0.63      0.62       155\n",
      "  weighted avg       0.63      0.63      0.62       155\n",
      "\n",
      "Picked 50 features.\n",
      "Using 100 estimators for 50 features...\n",
      "Feature prediction accuracy (test size: 20.0%): 0.716129032258\n",
      "\n",
      "                precision    recall  f1-score   support\n",
      "\n",
      "    KLF1_CEBPA       0.68      0.50      0.58        52\n",
      " KLF1_NegCtrl0       0.74      0.96      0.84        51\n",
      "NegCtrl0_CEBPA       0.71      0.69      0.70        52\n",
      "\n",
      "     micro avg       0.72      0.72      0.72       155\n",
      "     macro avg       0.71      0.72      0.70       155\n",
      "  weighted avg       0.71      0.72      0.70       155\n",
      "\n"
     ]
    },
    {
     "data": {
      "image/png": "[encoded data removed]",
      "text/plain": [
       "<Figure size 360x108 with 4 Axes>"
      ]
     },
     "metadata": {},
     "output_type": "display_data"
    }
   ],
   "source": [
    "sns.set(font_scale=1)\n",
    "_, cg = double_variable_expression_heatmap(pop,\n",
    "                                           'KLF1_CEBPA',\n",
    "                                           test_genes='mean > 0.5',\n",
    "                                           model_fit_genes=abundant_genes,\n",
    "                                           figsize=[5, 1.5],\n",
    "                                           num_features=50,\n",
    "                                           vmin=-6, vmax=6,\n",
    "                                           additive_model=False,\n",
    "                                           include_control_cells=False,\n",
    "                                           include_model=True,\n",
    "                                           include_difference=False,\n",
    "                                           square=False)\n",
    "cg.ax_heatmap.set_xticklabels([])\n",
    "cg.savefig('./figures/double_heatmap_examples_KLF1_CEBPA_with_model.pdf')"
   ]
  },
  {
   "cell_type": "code",
   "execution_count": 34,
   "metadata": {
    "scrolled": true
   },
   "outputs": [
    {
     "name": "stdout",
     "output_type": "stream",
     "text": [
      "0.974529864982196\n",
      "0.9146704495612176\n"
     ]
    },
    {
     "data": {
      "image/png": "[encoded data removed]",
      "text/plain": [
       "<Figure size 144x144 with 1 Axes>"
      ]
     },
     "metadata": {},
     "output_type": "display_data"
    }
   ],
   "source": [
    "compare_double_to_model('KLF1_CEBPA', limits=[-2, 10], model_type='ts', figsize=[2,2])\n",
    "plt.savefig('./figures/double_heatmap_examples_KLF1_CEBPA_scatter.pdf', bbox_inches='tight')"
   ]
  },
  {
   "cell_type": "code",
   "execution_count": 35,
   "metadata": {},
   "outputs": [
    {
     "name": "stdout",
     "output_type": "stream",
     "text": [
      "Generating summary statistics...\n",
      "Done.\n",
      "Inheriting from parent normalized matrix...\n",
      "Training (genes: mean > 0.5)...\n",
      "Using 761 estimators for 2898 features...\n",
      "Feature prediction accuracy (test size: 20.0%): 0.770833333333\n",
      "\n",
      "                 precision    recall  f1-score   support\n",
      "\n",
      " NegCtrl0_SNAI1       0.74      0.81      0.78        32\n",
      "PTPN12_NegCtrl0       0.88      0.88      0.88        32\n",
      "   PTPN12_SNAI1       0.69      0.62      0.66        32\n",
      "\n",
      "      micro avg       0.77      0.77      0.77        96\n",
      "      macro avg       0.77      0.77      0.77        96\n",
      "   weighted avg       0.77      0.77      0.77        96\n",
      "\n",
      "Picked 50 features.\n",
      "Using 100 estimators for 50 features...\n",
      "Feature prediction accuracy (test size: 20.0%): 0.760416666667\n",
      "\n",
      "                 precision    recall  f1-score   support\n",
      "\n",
      " NegCtrl0_SNAI1       0.76      0.78      0.77        32\n",
      "PTPN12_NegCtrl0       0.84      0.84      0.84        32\n",
      "   PTPN12_SNAI1       0.68      0.66      0.67        32\n",
      "\n",
      "      micro avg       0.76      0.76      0.76        96\n",
      "      macro avg       0.76      0.76      0.76        96\n",
      "   weighted avg       0.76      0.76      0.76        96\n",
      "\n"
     ]
    },
    {
     "data": {
      "image/png": "[encoded data removed]",
      "text/plain": [
       "<Figure size 360x108 with 4 Axes>"
      ]
     },
     "metadata": {},
     "output_type": "display_data"
    }
   ],
   "source": [
    "sns.set(font_scale=1)\n",
    "_, cg = double_variable_expression_heatmap(pop,\n",
    "                                           'PTPN12_SNAI1',\n",
    "                                           test_genes='mean > 0.5',\n",
    "                                           model_fit_genes=abundant_genes,\n",
    "                                           figsize=[5, 1.5],\n",
    "                                           num_features=50,\n",
    "                                           vmin=-2, vmax=2,\n",
    "                                           additive_model=False,\n",
    "                                           include_control_cells=False,\n",
    "                                           include_model=True,\n",
    "                                           include_difference=False,\n",
    "                                           square=False)\n",
    "cg.ax_heatmap.set_xticklabels([])\n",
    "cg.savefig('./figures/double_heatmap_examples_PTPN12_SNAI1_with_model.pdf')"
   ]
  },
  {
   "cell_type": "code",
   "execution_count": 36,
   "metadata": {},
   "outputs": [
    {
     "name": "stdout",
     "output_type": "stream",
     "text": [
      "0.8109500981747031\n",
      "0.7576675279349036\n"
     ]
    },
    {
     "data": {
      "image/png": "[encoded data removed]",
      "text/plain": [
       "<Figure size 144x144 with 1 Axes>"
      ]
     },
     "metadata": {},
     "output_type": "display_data"
    }
   ],
   "source": [
    "compare_double_to_model('PTPN12_SNAI1', limits=[-2, 3], model_type='ts', figsize=[2,2], s=10)\n",
    "plt.savefig('./figures/double_heatmap_examples_PTPN12_SNAI1_scatter.pdf', bbox_inches='tight')"
   ]
  },
  {
   "cell_type": "code",
   "execution_count": 37,
   "metadata": {},
   "outputs": [
    {
     "name": "stdout",
     "output_type": "stream",
     "text": [
      "Generating summary statistics...\n",
      "Done.\n",
      "Inheriting from parent normalized matrix...\n",
      "Training (genes: mean > 0.5)...\n",
      "Using 725 estimators for 2630 features...\n",
      "Feature prediction accuracy (test size: 20.0%): 0.891304347826\n",
      "\n",
      "                  precision    recall  f1-score   support\n",
      "\n",
      "     FEV_CBFA2T3       1.00      0.77      0.87        31\n",
      "    FEV_NegCtrl0       0.80      0.93      0.86        30\n",
      "NegCtrl0_CBFA2T3       0.91      0.97      0.94        31\n",
      "\n",
      "       micro avg       0.89      0.89      0.89        92\n",
      "       macro avg       0.90      0.89      0.89        92\n",
      "    weighted avg       0.90      0.89      0.89        92\n",
      "\n",
      "Picked 50 features.\n",
      "Using 100 estimators for 50 features...\n",
      "Feature prediction accuracy (test size: 20.0%): 0.869565217391\n",
      "\n",
      "                  precision    recall  f1-score   support\n",
      "\n",
      "     FEV_CBFA2T3       1.00      0.74      0.85        31\n",
      "    FEV_NegCtrl0       0.74      0.93      0.82        30\n",
      "NegCtrl0_CBFA2T3       0.94      0.94      0.94        31\n",
      "\n",
      "       micro avg       0.87      0.87      0.87        92\n",
      "       macro avg       0.89      0.87      0.87        92\n",
      "    weighted avg       0.89      0.87      0.87        92\n",
      "\n"
     ]
    },
    {
     "data": {
      "image/png": "[encoded data removed]",
      "text/plain": [
       "<Figure size 360x108 with 4 Axes>"
      ]
     },
     "metadata": {},
     "output_type": "display_data"
    }
   ],
   "source": [
    "sns.set(font_scale=1)\n",
    "_, cg = double_variable_expression_heatmap(pop,\n",
    "                                           'FEV_CBFA2T3',\n",
    "                                           test_genes='mean > 0.5',\n",
    "                                           model_fit_genes=abundant_genes,\n",
    "                                           figsize=[5, 1.5],\n",
    "                                           num_features=50,\n",
    "                                           vmin=-4, vmax=4,\n",
    "                                           additive_model=False,\n",
    "                                           include_control_cells=False,\n",
    "                                           include_model=True,\n",
    "                                           include_difference=False,\n",
    "                                           square=False)\n",
    "cg.ax_heatmap.set_xticklabels([])\n",
    "cg.savefig('./figures/double_heatmap_examples_FEV_CBFA2T3_with_model.pdf')"
   ]
  },
  {
   "cell_type": "code",
   "execution_count": 38,
   "metadata": {},
   "outputs": [
    {
     "name": "stdout",
     "output_type": "stream",
     "text": [
      "0.8200568395010555\n",
      "0.736163456953053\n"
     ]
    },
    {
     "data": {
      "image/png": "[encoded data removed]",
      "text/plain": [
       "<Figure size 144x144 with 1 Axes>"
      ]
     },
     "metadata": {},
     "output_type": "display_data"
    }
   ],
   "source": [
    "compare_double_to_model('FEV_CBFA2T3', limits=[-5, 10], model_type='ts', figsize=[2,2], s=10)\n",
    "plt.savefig('./figures/double_heatmap_examples_FEV_CBFA2T3_scatter.pdf', bbox_inches='tight')"
   ]
  },
  {
   "cell_type": "code",
   "execution_count": 39,
   "metadata": {},
   "outputs": [
    {
     "name": "stdout",
     "output_type": "stream",
     "text": [
      "Generating summary statistics...\n",
      "Done.\n",
      "Inheriting from parent normalized matrix...\n",
      "Training (genes: mean > 0.5)...\n",
      "Using 764 estimators for 2919 features...\n",
      "Feature prediction accuracy (test size: 20.0%): 0.35\n",
      "\n",
      "               precision    recall  f1-score   support\n",
      "\n",
      "NegCtrl0_STIL       0.25      0.21      0.23        14\n",
      "PLK4_NegCtrl0       0.42      0.38      0.40        13\n",
      "    PLK4_STIL       0.38      0.46      0.41        13\n",
      "\n",
      "    micro avg       0.35      0.35      0.35        40\n",
      "    macro avg       0.35      0.35      0.35        40\n",
      " weighted avg       0.34      0.35      0.35        40\n",
      "\n",
      "Picked 50 features.\n",
      "Using 100 estimators for 50 features...\n",
      "Feature prediction accuracy (test size: 20.0%): 0.4\n",
      "\n",
      "               precision    recall  f1-score   support\n",
      "\n",
      "NegCtrl0_STIL       0.27      0.21      0.24        14\n",
      "PLK4_NegCtrl0       0.46      0.46      0.46        13\n",
      "    PLK4_STIL       0.44      0.54      0.48        13\n",
      "\n",
      "    micro avg       0.40      0.40      0.40        40\n",
      "    macro avg       0.39      0.40      0.39        40\n",
      " weighted avg       0.39      0.40      0.39        40\n",
      "\n"
     ]
    },
    {
     "data": {
      "image/png": "[encoded data removed]",
      "text/plain": [
       "<Figure size 360x108 with 4 Axes>"
      ]
     },
     "metadata": {},
     "output_type": "display_data"
    }
   ],
   "source": [
    "sns.set(font_scale=1)\n",
    "_, cg = double_variable_expression_heatmap(pop,\n",
    "                                           'PLK4_STIL',\n",
    "                                           test_genes='mean > 0.5',\n",
    "                                           model_fit_genes=abundant_genes,\n",
    "                                           figsize=[5, 1.5],\n",
    "                                           num_features=50,\n",
    "                                           vmin=-1, vmax=1,\n",
    "                                           additive_model=False,\n",
    "                                           include_control_cells=False,\n",
    "                                           include_model=True,\n",
    "                                           include_difference=False,\n",
    "                                           square=False)\n",
    "cg.ax_heatmap.set_xticklabels([])\n",
    "cg.savefig('./figures/double_heatmap_examples_PLK4_STIL_with_model.pdf')"
   ]
  },
  {
   "cell_type": "code",
   "execution_count": 40,
   "metadata": {},
   "outputs": [
    {
     "name": "stdout",
     "output_type": "stream",
     "text": [
      "0.5920787268821643\n",
      "0.524852422435567\n"
     ]
    },
    {
     "data": {
      "image/png": "[encoded data removed]",
      "text/plain": [
       "<Figure size 144x144 with 1 Axes>"
      ]
     },
     "metadata": {},
     "output_type": "display_data"
    }
   ],
   "source": [
    "compare_double_to_model('PLK4_STIL', limits=[-2, 3], model_type='ts', figsize=[2,2], s=10)\n",
    "plt.savefig('./figures/double_heatmap_examples_PLK4_STIL_scatter.pdf', bbox_inches='tight')"
   ]
  },
  {
   "cell_type": "code",
   "execution_count": null,
   "metadata": {},
   "outputs": [],
   "source": []
  }
 ],
 "metadata": {
  "kernelspec": {
   "display_name": "Python 2",
   "language": "python",
   "name": "python2"
  },
  "language_info": {
   "codemirror_mode": {
    "name": "ipython",
    "version": 2
   },
   "file_extension": ".py",
   "mimetype": "text/x-python",
   "name": "python",
   "nbconvert_exporter": "python",
   "pygments_lexer": "ipython2",
   "version": "2.7.12"
  }
 },
 "nbformat": 4,
 "nbformat_minor": 2
}
